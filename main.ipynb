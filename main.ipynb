{
 "cells": [
  {
   "cell_type": "code",
   "execution_count": 1,
   "metadata": {},
   "outputs": [],
   "source": [
    "#### DATA GENERAL INFORMATION\n",
    "# The dataset was provided by the Mexican government (link). This dataset contains an enormous number of anonymized patient-related information including pre-conditions. The raw dataset consists of 21 unique features and 1,048,576 unique patients. In the Boolean features, 1 means \"yes\" and 2 means \"no\". values as 97 and 99 are missing data.\n",
    "\n",
    "# sex: 1 for female and 2 for male.\n",
    "# age: of the patient.\n",
    "# classification: covid test findings. Values 1-3 mean that the patient was diagnosed with covid in different\n",
    "# degrees. 4 or higher means that the patient is not a carrier of covid or that the test is inconclusive.\n",
    "# patient type: type of care the patient received in the unit. 1 for returned home and 2 for hospitalization.\n",
    "# pneumonia: whether the patient already have air sacs inflammation or not.\n",
    "# pregnancy: whether the patient is pregnant or not.\n",
    "# diabetes: whether the patient has diabetes or not.\n",
    "# copd: Indicates whether the patient has Chronic obstructive pulmonary disease or not.\n",
    "# asthma: whether the patient has asthma or not.\n",
    "# inmsupr: whether the patient is immunosuppressed or not.\n",
    "# hypertension: whether the patient has hypertension or not.\n",
    "# cardiovascular: whether the patient has heart or blood vessels related disease.\n",
    "# renal chronic: whether the patient has chronic renal disease or not.\n",
    "# other disease: whether the patient has other disease or not.\n",
    "# obesity: whether the patient is obese or not.\n",
    "# tobacco: whether the patient is a tobacco user.\n",
    "# usmr: Indicates whether the patient treated medical units of the first, second or third level.\n",
    "# medical unit: type of institution of the National Health System that provided the care.\n",
    "# intubed: whether the patient was connected to the ventilator.\n",
    "# icu: Indicates whether the patient had been admitted to an Intensive Care Unit.\n",
    "# date died: If the patient died indicate the date of death, and 9999-99-99 otherwise.\n",
    "#### GOAL\n",
    "# predict probability if a person needs to be hospitalized or not.\n",
    "# predict probability if a person is going to die or not.\n",
    "# predict probability if a person is going to be intubated or not.\n",
    "# predict probability if a person is going to be in the ICU or not.\n"
   ]
  },
  {
   "cell_type": "code",
   "execution_count": 2,
   "metadata": {},
   "outputs": [],
   "source": [
    "\n",
    "import pandas as pd\n",
    "import numpy as np\n",
    "import seaborn as sns\n",
    "import matplotlib.pyplot as plt"
   ]
  },
  {
   "cell_type": "code",
   "execution_count": 3,
   "metadata": {},
   "outputs": [
    {
     "name": "stdout",
     "output_type": "stream",
     "text": [
      "<class 'pandas.core.frame.DataFrame'>\n",
      "RangeIndex: 1048575 entries, 0 to 1048574\n",
      "Data columns (total 21 columns):\n",
      " #   Column                Non-Null Count    Dtype \n",
      "---  ------                --------------    ----- \n",
      " 0   USMER                 1048575 non-null  int64 \n",
      " 1   MEDICAL_UNIT          1048575 non-null  int64 \n",
      " 2   SEX                   1048575 non-null  int64 \n",
      " 3   PATIENT_TYPE          1048575 non-null  int64 \n",
      " 4   DATE_DIED             1048575 non-null  object\n",
      " 5   INTUBED               1048575 non-null  int64 \n",
      " 6   PNEUMONIA             1048575 non-null  int64 \n",
      " 7   AGE                   1048575 non-null  int64 \n",
      " 8   PREGNANT              1048575 non-null  int64 \n",
      " 9   DIABETES              1048575 non-null  int64 \n",
      " 10  COPD                  1048575 non-null  int64 \n",
      " 11  ASTHMA                1048575 non-null  int64 \n",
      " 12  INMSUPR               1048575 non-null  int64 \n",
      " 13  HIPERTENSION          1048575 non-null  int64 \n",
      " 14  OTHER_DISEASE         1048575 non-null  int64 \n",
      " 15  CARDIOVASCULAR        1048575 non-null  int64 \n",
      " 16  OBESITY               1048575 non-null  int64 \n",
      " 17  RENAL_CHRONIC         1048575 non-null  int64 \n",
      " 18  TOBACCO               1048575 non-null  int64 \n",
      " 19  CLASIFFICATION_FINAL  1048575 non-null  int64 \n",
      " 20  ICU                   1048575 non-null  int64 \n",
      "dtypes: int64(20), object(1)\n",
      "memory usage: 168.0+ MB\n"
     ]
    }
   ],
   "source": [
    "# Read the data\n",
    "df = pd.read_csv('Covid Data.csv')\n",
    "df.info()"
   ]
  },
  {
   "cell_type": "code",
   "execution_count": 4,
   "metadata": {},
   "outputs": [
    {
     "data": {
      "text/html": [
       "<div>\n",
       "<style scoped>\n",
       "    .dataframe tbody tr th:only-of-type {\n",
       "        vertical-align: middle;\n",
       "    }\n",
       "\n",
       "    .dataframe tbody tr th {\n",
       "        vertical-align: top;\n",
       "    }\n",
       "\n",
       "    .dataframe thead th {\n",
       "        text-align: right;\n",
       "    }\n",
       "</style>\n",
       "<table border=\"1\" class=\"dataframe\">\n",
       "  <thead>\n",
       "    <tr style=\"text-align: right;\">\n",
       "      <th></th>\n",
       "      <th>USMER</th>\n",
       "      <th>MEDICAL_UNIT</th>\n",
       "      <th>SEX</th>\n",
       "      <th>PATIENT_TYPE</th>\n",
       "      <th>INTUBED</th>\n",
       "      <th>PNEUMONIA</th>\n",
       "      <th>AGE</th>\n",
       "      <th>PREGNANT</th>\n",
       "      <th>DIABETES</th>\n",
       "      <th>COPD</th>\n",
       "      <th>ASTHMA</th>\n",
       "      <th>INMSUPR</th>\n",
       "      <th>HIPERTENSION</th>\n",
       "      <th>OTHER_DISEASE</th>\n",
       "      <th>CARDIOVASCULAR</th>\n",
       "      <th>OBESITY</th>\n",
       "      <th>RENAL_CHRONIC</th>\n",
       "      <th>TOBACCO</th>\n",
       "      <th>CLASIFFICATION_FINAL</th>\n",
       "      <th>ICU</th>\n",
       "    </tr>\n",
       "  </thead>\n",
       "  <tbody>\n",
       "    <tr>\n",
       "      <th>count</th>\n",
       "      <td>1.048575e+06</td>\n",
       "      <td>1.048575e+06</td>\n",
       "      <td>1.048575e+06</td>\n",
       "      <td>1.048575e+06</td>\n",
       "      <td>1.048575e+06</td>\n",
       "      <td>1.048575e+06</td>\n",
       "      <td>1.048575e+06</td>\n",
       "      <td>1.048575e+06</td>\n",
       "      <td>1.048575e+06</td>\n",
       "      <td>1.048575e+06</td>\n",
       "      <td>1.048575e+06</td>\n",
       "      <td>1.048575e+06</td>\n",
       "      <td>1.048575e+06</td>\n",
       "      <td>1.048575e+06</td>\n",
       "      <td>1.048575e+06</td>\n",
       "      <td>1.048575e+06</td>\n",
       "      <td>1.048575e+06</td>\n",
       "      <td>1.048575e+06</td>\n",
       "      <td>1.048575e+06</td>\n",
       "      <td>1.048575e+06</td>\n",
       "    </tr>\n",
       "    <tr>\n",
       "      <th>mean</th>\n",
       "      <td>1.632194e+00</td>\n",
       "      <td>8.980565e+00</td>\n",
       "      <td>1.499259e+00</td>\n",
       "      <td>1.190765e+00</td>\n",
       "      <td>7.952288e+01</td>\n",
       "      <td>3.346831e+00</td>\n",
       "      <td>4.179410e+01</td>\n",
       "      <td>4.976558e+01</td>\n",
       "      <td>2.186404e+00</td>\n",
       "      <td>2.260569e+00</td>\n",
       "      <td>2.242626e+00</td>\n",
       "      <td>2.298132e+00</td>\n",
       "      <td>2.128989e+00</td>\n",
       "      <td>2.435143e+00</td>\n",
       "      <td>2.261810e+00</td>\n",
       "      <td>2.125176e+00</td>\n",
       "      <td>2.257180e+00</td>\n",
       "      <td>2.214333e+00</td>\n",
       "      <td>5.305653e+00</td>\n",
       "      <td>7.955397e+01</td>\n",
       "    </tr>\n",
       "    <tr>\n",
       "      <th>std</th>\n",
       "      <td>4.822084e-01</td>\n",
       "      <td>3.723278e+00</td>\n",
       "      <td>4.999997e-01</td>\n",
       "      <td>3.929041e-01</td>\n",
       "      <td>3.686889e+01</td>\n",
       "      <td>1.191288e+01</td>\n",
       "      <td>1.690739e+01</td>\n",
       "      <td>4.751073e+01</td>\n",
       "      <td>5.424242e+00</td>\n",
       "      <td>5.132258e+00</td>\n",
       "      <td>5.114089e+00</td>\n",
       "      <td>5.462843e+00</td>\n",
       "      <td>5.236397e+00</td>\n",
       "      <td>6.646676e+00</td>\n",
       "      <td>5.194850e+00</td>\n",
       "      <td>5.175445e+00</td>\n",
       "      <td>5.135354e+00</td>\n",
       "      <td>5.323097e+00</td>\n",
       "      <td>1.881165e+00</td>\n",
       "      <td>3.682307e+01</td>\n",
       "    </tr>\n",
       "    <tr>\n",
       "      <th>min</th>\n",
       "      <td>1.000000e+00</td>\n",
       "      <td>1.000000e+00</td>\n",
       "      <td>1.000000e+00</td>\n",
       "      <td>1.000000e+00</td>\n",
       "      <td>1.000000e+00</td>\n",
       "      <td>1.000000e+00</td>\n",
       "      <td>0.000000e+00</td>\n",
       "      <td>1.000000e+00</td>\n",
       "      <td>1.000000e+00</td>\n",
       "      <td>1.000000e+00</td>\n",
       "      <td>1.000000e+00</td>\n",
       "      <td>1.000000e+00</td>\n",
       "      <td>1.000000e+00</td>\n",
       "      <td>1.000000e+00</td>\n",
       "      <td>1.000000e+00</td>\n",
       "      <td>1.000000e+00</td>\n",
       "      <td>1.000000e+00</td>\n",
       "      <td>1.000000e+00</td>\n",
       "      <td>1.000000e+00</td>\n",
       "      <td>1.000000e+00</td>\n",
       "    </tr>\n",
       "    <tr>\n",
       "      <th>25%</th>\n",
       "      <td>1.000000e+00</td>\n",
       "      <td>4.000000e+00</td>\n",
       "      <td>1.000000e+00</td>\n",
       "      <td>1.000000e+00</td>\n",
       "      <td>9.700000e+01</td>\n",
       "      <td>2.000000e+00</td>\n",
       "      <td>3.000000e+01</td>\n",
       "      <td>2.000000e+00</td>\n",
       "      <td>2.000000e+00</td>\n",
       "      <td>2.000000e+00</td>\n",
       "      <td>2.000000e+00</td>\n",
       "      <td>2.000000e+00</td>\n",
       "      <td>2.000000e+00</td>\n",
       "      <td>2.000000e+00</td>\n",
       "      <td>2.000000e+00</td>\n",
       "      <td>2.000000e+00</td>\n",
       "      <td>2.000000e+00</td>\n",
       "      <td>2.000000e+00</td>\n",
       "      <td>3.000000e+00</td>\n",
       "      <td>9.700000e+01</td>\n",
       "    </tr>\n",
       "    <tr>\n",
       "      <th>50%</th>\n",
       "      <td>2.000000e+00</td>\n",
       "      <td>1.200000e+01</td>\n",
       "      <td>1.000000e+00</td>\n",
       "      <td>1.000000e+00</td>\n",
       "      <td>9.700000e+01</td>\n",
       "      <td>2.000000e+00</td>\n",
       "      <td>4.000000e+01</td>\n",
       "      <td>9.700000e+01</td>\n",
       "      <td>2.000000e+00</td>\n",
       "      <td>2.000000e+00</td>\n",
       "      <td>2.000000e+00</td>\n",
       "      <td>2.000000e+00</td>\n",
       "      <td>2.000000e+00</td>\n",
       "      <td>2.000000e+00</td>\n",
       "      <td>2.000000e+00</td>\n",
       "      <td>2.000000e+00</td>\n",
       "      <td>2.000000e+00</td>\n",
       "      <td>2.000000e+00</td>\n",
       "      <td>6.000000e+00</td>\n",
       "      <td>9.700000e+01</td>\n",
       "    </tr>\n",
       "    <tr>\n",
       "      <th>75%</th>\n",
       "      <td>2.000000e+00</td>\n",
       "      <td>1.200000e+01</td>\n",
       "      <td>2.000000e+00</td>\n",
       "      <td>1.000000e+00</td>\n",
       "      <td>9.700000e+01</td>\n",
       "      <td>2.000000e+00</td>\n",
       "      <td>5.300000e+01</td>\n",
       "      <td>9.700000e+01</td>\n",
       "      <td>2.000000e+00</td>\n",
       "      <td>2.000000e+00</td>\n",
       "      <td>2.000000e+00</td>\n",
       "      <td>2.000000e+00</td>\n",
       "      <td>2.000000e+00</td>\n",
       "      <td>2.000000e+00</td>\n",
       "      <td>2.000000e+00</td>\n",
       "      <td>2.000000e+00</td>\n",
       "      <td>2.000000e+00</td>\n",
       "      <td>2.000000e+00</td>\n",
       "      <td>7.000000e+00</td>\n",
       "      <td>9.700000e+01</td>\n",
       "    </tr>\n",
       "    <tr>\n",
       "      <th>max</th>\n",
       "      <td>2.000000e+00</td>\n",
       "      <td>1.300000e+01</td>\n",
       "      <td>2.000000e+00</td>\n",
       "      <td>2.000000e+00</td>\n",
       "      <td>9.900000e+01</td>\n",
       "      <td>9.900000e+01</td>\n",
       "      <td>1.210000e+02</td>\n",
       "      <td>9.800000e+01</td>\n",
       "      <td>9.800000e+01</td>\n",
       "      <td>9.800000e+01</td>\n",
       "      <td>9.800000e+01</td>\n",
       "      <td>9.800000e+01</td>\n",
       "      <td>9.800000e+01</td>\n",
       "      <td>9.800000e+01</td>\n",
       "      <td>9.800000e+01</td>\n",
       "      <td>9.800000e+01</td>\n",
       "      <td>9.800000e+01</td>\n",
       "      <td>9.800000e+01</td>\n",
       "      <td>7.000000e+00</td>\n",
       "      <td>9.900000e+01</td>\n",
       "    </tr>\n",
       "  </tbody>\n",
       "</table>\n",
       "</div>"
      ],
      "text/plain": [
       "              USMER  MEDICAL_UNIT           SEX  PATIENT_TYPE       INTUBED  \\\n",
       "count  1.048575e+06  1.048575e+06  1.048575e+06  1.048575e+06  1.048575e+06   \n",
       "mean   1.632194e+00  8.980565e+00  1.499259e+00  1.190765e+00  7.952288e+01   \n",
       "std    4.822084e-01  3.723278e+00  4.999997e-01  3.929041e-01  3.686889e+01   \n",
       "min    1.000000e+00  1.000000e+00  1.000000e+00  1.000000e+00  1.000000e+00   \n",
       "25%    1.000000e+00  4.000000e+00  1.000000e+00  1.000000e+00  9.700000e+01   \n",
       "50%    2.000000e+00  1.200000e+01  1.000000e+00  1.000000e+00  9.700000e+01   \n",
       "75%    2.000000e+00  1.200000e+01  2.000000e+00  1.000000e+00  9.700000e+01   \n",
       "max    2.000000e+00  1.300000e+01  2.000000e+00  2.000000e+00  9.900000e+01   \n",
       "\n",
       "          PNEUMONIA           AGE      PREGNANT      DIABETES          COPD  \\\n",
       "count  1.048575e+06  1.048575e+06  1.048575e+06  1.048575e+06  1.048575e+06   \n",
       "mean   3.346831e+00  4.179410e+01  4.976558e+01  2.186404e+00  2.260569e+00   \n",
       "std    1.191288e+01  1.690739e+01  4.751073e+01  5.424242e+00  5.132258e+00   \n",
       "min    1.000000e+00  0.000000e+00  1.000000e+00  1.000000e+00  1.000000e+00   \n",
       "25%    2.000000e+00  3.000000e+01  2.000000e+00  2.000000e+00  2.000000e+00   \n",
       "50%    2.000000e+00  4.000000e+01  9.700000e+01  2.000000e+00  2.000000e+00   \n",
       "75%    2.000000e+00  5.300000e+01  9.700000e+01  2.000000e+00  2.000000e+00   \n",
       "max    9.900000e+01  1.210000e+02  9.800000e+01  9.800000e+01  9.800000e+01   \n",
       "\n",
       "             ASTHMA       INMSUPR  HIPERTENSION  OTHER_DISEASE  \\\n",
       "count  1.048575e+06  1.048575e+06  1.048575e+06   1.048575e+06   \n",
       "mean   2.242626e+00  2.298132e+00  2.128989e+00   2.435143e+00   \n",
       "std    5.114089e+00  5.462843e+00  5.236397e+00   6.646676e+00   \n",
       "min    1.000000e+00  1.000000e+00  1.000000e+00   1.000000e+00   \n",
       "25%    2.000000e+00  2.000000e+00  2.000000e+00   2.000000e+00   \n",
       "50%    2.000000e+00  2.000000e+00  2.000000e+00   2.000000e+00   \n",
       "75%    2.000000e+00  2.000000e+00  2.000000e+00   2.000000e+00   \n",
       "max    9.800000e+01  9.800000e+01  9.800000e+01   9.800000e+01   \n",
       "\n",
       "       CARDIOVASCULAR       OBESITY  RENAL_CHRONIC       TOBACCO  \\\n",
       "count    1.048575e+06  1.048575e+06   1.048575e+06  1.048575e+06   \n",
       "mean     2.261810e+00  2.125176e+00   2.257180e+00  2.214333e+00   \n",
       "std      5.194850e+00  5.175445e+00   5.135354e+00  5.323097e+00   \n",
       "min      1.000000e+00  1.000000e+00   1.000000e+00  1.000000e+00   \n",
       "25%      2.000000e+00  2.000000e+00   2.000000e+00  2.000000e+00   \n",
       "50%      2.000000e+00  2.000000e+00   2.000000e+00  2.000000e+00   \n",
       "75%      2.000000e+00  2.000000e+00   2.000000e+00  2.000000e+00   \n",
       "max      9.800000e+01  9.800000e+01   9.800000e+01  9.800000e+01   \n",
       "\n",
       "       CLASIFFICATION_FINAL           ICU  \n",
       "count          1.048575e+06  1.048575e+06  \n",
       "mean           5.305653e+00  7.955397e+01  \n",
       "std            1.881165e+00  3.682307e+01  \n",
       "min            1.000000e+00  1.000000e+00  \n",
       "25%            3.000000e+00  9.700000e+01  \n",
       "50%            6.000000e+00  9.700000e+01  \n",
       "75%            7.000000e+00  9.700000e+01  \n",
       "max            7.000000e+00  9.900000e+01  "
      ]
     },
     "execution_count": 4,
     "metadata": {},
     "output_type": "execute_result"
    }
   ],
   "source": [
    "df.describe()"
   ]
  },
  {
   "cell_type": "code",
   "execution_count": 5,
   "metadata": {},
   "outputs": [
    {
     "data": {
      "text/plain": [
       "812049"
      ]
     },
     "execution_count": 5,
     "metadata": {},
     "output_type": "execute_result"
    }
   ],
   "source": [
    "# check if there are duplicate rows\n",
    "df.duplicated().sum()"
   ]
  },
  {
   "cell_type": "code",
   "execution_count": 6,
   "metadata": {},
   "outputs": [],
   "source": [
    "# there are more than 800k duplicates but we will keep them for now because we can not tell if they are real duplicates or not.\n",
    "# since data doesn't have a key column.\n",
    "# lets each column and see if there are balance and how many missing data we have."
   ]
  },
  {
   "cell_type": "code",
   "execution_count": 7,
   "metadata": {},
   "outputs": [
    {
     "data": {
      "text/plain": [
       "1    525064\n",
       "0    523511\n",
       "Name: SEX, dtype: int64"
      ]
     },
     "execution_count": 7,
     "metadata": {},
     "output_type": "execute_result"
    }
   ],
   "source": [
    "df['SEX'].value_counts()\n",
    "# since there aren't any 97 and 99 there is no missing data in this column.\n",
    "# we switch the value from 2 to 0 to make it easier to work with.\n",
    "df['SEX'] = df['SEX'].apply(lambda x: 0 if x==2 else 1)\n",
    "df['SEX'].value_counts()"
   ]
  },
  {
   "cell_type": "code",
   "execution_count": 8,
   "metadata": {},
   "outputs": [
    {
     "data": {
      "text/plain": [
       "1    848544\n",
       "2    200031\n",
       "Name: PATIENT_TYPE, dtype: int64"
      ]
     },
     "execution_count": 8,
     "metadata": {},
     "output_type": "execute_result"
    }
   ],
   "source": [
    "#1: returned home, 2: hospitalization\n",
    "df['PATIENT_TYPE'].value_counts()"
   ]
  },
  {
   "cell_type": "code",
   "execution_count": 9,
   "metadata": {},
   "outputs": [
    {
     "data": {
      "text/plain": [
       "1    848544\n",
       "0    200031\n",
       "Name: PATIENT_TYPE, dtype: int64"
      ]
     },
     "execution_count": 9,
     "metadata": {},
     "output_type": "execute_result"
    }
   ],
   "source": [
    "# switch 2 to 0\n",
    "df['PATIENT_TYPE'] = df['PATIENT_TYPE'].apply(lambda x: 0 if x==2 else 1)\n",
    "df['PATIENT_TYPE'].value_counts()"
   ]
  },
  {
   "cell_type": "code",
   "execution_count": 10,
   "metadata": {},
   "outputs": [
    {
     "data": {
      "text/plain": [
       "9999-99-99    971633\n",
       "06/07/2020      1000\n",
       "07/07/2020       996\n",
       "13/07/2020       990\n",
       "16/06/2020       979\n",
       "               ...  \n",
       "24/11/2020         1\n",
       "17/12/2020         1\n",
       "08/12/2020         1\n",
       "16/03/2021         1\n",
       "22/04/2021         1\n",
       "Name: DATE_DIED, Length: 401, dtype: int64"
      ]
     },
     "execution_count": 10,
     "metadata": {},
     "output_type": "execute_result"
    }
   ],
   "source": [
    "# we ha ve to change it to if they died or not\n",
    "df['DATE_DIED'].value_counts()"
   ]
  },
  {
   "cell_type": "code",
   "execution_count": 11,
   "metadata": {},
   "outputs": [
    {
     "data": {
      "text/plain": [
       "0    971633\n",
       "1     76942\n",
       "Name: DATE_DIED, dtype: int64"
      ]
     },
     "execution_count": 11,
     "metadata": {},
     "output_type": "execute_result"
    }
   ],
   "source": [
    "df['DATE_DIED'] = df['DATE_DIED'].apply(lambda x: 0 if x=='9999-99-99' else 1)\n",
    "df['DATE_DIED'].value_counts()"
   ]
  },
  {
   "cell_type": "code",
   "execution_count": 12,
   "metadata": {},
   "outputs": [
    {
     "data": {
      "text/plain": [
       "97    848544\n",
       "2     175685\n",
       "1      16858\n",
       "99      7488\n",
       "Name: ICU, dtype: int64"
      ]
     },
     "execution_count": 12,
     "metadata": {},
     "output_type": "execute_result"
    }
   ],
   "source": [
    "df['ICU'].value_counts()"
   ]
  },
  {
   "cell_type": "code",
   "execution_count": 13,
   "metadata": {},
   "outputs": [
    {
     "data": {
      "text/plain": [
       "0    1031717\n",
       "1      16858\n",
       "Name: ICU, dtype: int64"
      ]
     },
     "execution_count": 13,
     "metadata": {},
     "output_type": "execute_result"
    }
   ],
   "source": [
    "# lets get unknown values (97, 99) and assumed they have not been in ICU\n",
    "df['ICU'] = df['ICU'].apply(lambda x: 1 if x==1 else 0)\n",
    "df['ICU'].value_counts()"
   ]
  },
  {
   "cell_type": "code",
   "execution_count": 14,
   "metadata": {},
   "outputs": [
    {
     "data": {
      "text/plain": [
       "97    848544\n",
       "2     159050\n",
       "1      33656\n",
       "99      7325\n",
       "Name: INTUBED, dtype: int64"
      ]
     },
     "execution_count": 14,
     "metadata": {},
     "output_type": "execute_result"
    }
   ],
   "source": [
    "df['INTUBED'].value_counts()"
   ]
  },
  {
   "cell_type": "code",
   "execution_count": 15,
   "metadata": {},
   "outputs": [
    {
     "data": {
      "text/plain": [
       "0    1014919\n",
       "1      33656\n",
       "Name: INTUBED, dtype: int64"
      ]
     },
     "execution_count": 15,
     "metadata": {},
     "output_type": "execute_result"
    }
   ],
   "source": [
    "df['INTUBED'] = df['INTUBED'].apply(lambda x: 1 if x==1 else 0)\n",
    "df['INTUBED'].value_counts()"
   ]
  },
  {
   "cell_type": "code",
   "execution_count": 16,
   "metadata": {},
   "outputs": [
    {
     "data": {
      "text/plain": [
       "2     892534\n",
       "1     140038\n",
       "99     16003\n",
       "Name: PNEUMONIA, dtype: int64"
      ]
     },
     "execution_count": 16,
     "metadata": {},
     "output_type": "execute_result"
    }
   ],
   "source": [
    "df['PNEUMONIA'].value_counts()"
   ]
  },
  {
   "cell_type": "code",
   "execution_count": 17,
   "metadata": {},
   "outputs": [
    {
     "data": {
      "text/plain": [
       "0    908537\n",
       "1    140038\n",
       "Name: PNEUMONIA, dtype: int64"
      ]
     },
     "execution_count": 17,
     "metadata": {},
     "output_type": "execute_result"
    }
   ],
   "source": [
    "df['PNEUMONIA'] = df['PNEUMONIA'].apply(lambda x: 1 if x==1 else 0)\n",
    "df['PNEUMONIA'].value_counts()"
   ]
  },
  {
   "cell_type": "code",
   "execution_count": 18,
   "metadata": {},
   "outputs": [
    {
     "data": {
      "text/plain": [
       "97    523511\n",
       "2     513179\n",
       "1       8131\n",
       "98      3754\n",
       "Name: PREGNANT, dtype: int64"
      ]
     },
     "execution_count": 18,
     "metadata": {},
     "output_type": "execute_result"
    }
   ],
   "source": [
    "df['PREGNANT'].value_counts()"
   ]
  },
  {
   "cell_type": "code",
   "execution_count": 19,
   "metadata": {},
   "outputs": [
    {
     "data": {
      "text/plain": [
       "0    1040444\n",
       "1       8131\n",
       "Name: PREGNANT, dtype: int64"
      ]
     },
     "execution_count": 19,
     "metadata": {},
     "output_type": "execute_result"
    }
   ],
   "source": [
    "df['PREGNANT'] = df['PREGNANT'].apply(lambda x: 1 if x==1 else 0)\n",
    "df['PREGNANT'].value_counts()"
   ]
  },
  {
   "cell_type": "code",
   "execution_count": 20,
   "metadata": {},
   "outputs": [
    {
     "data": {
      "text/plain": [
       "2     920248\n",
       "1     124989\n",
       "98      3338\n",
       "Name: DIABETES, dtype: int64"
      ]
     },
     "execution_count": 20,
     "metadata": {},
     "output_type": "execute_result"
    }
   ],
   "source": [
    "df['DIABETES'].value_counts()"
   ]
  },
  {
   "cell_type": "code",
   "execution_count": 21,
   "metadata": {},
   "outputs": [
    {
     "data": {
      "text/plain": [
       "0    923586\n",
       "1    124989\n",
       "Name: DIABETES, dtype: int64"
      ]
     },
     "execution_count": 21,
     "metadata": {},
     "output_type": "execute_result"
    }
   ],
   "source": [
    "df['DIABETES'] = df['DIABETES'].apply(lambda x: 1 if x==1 else 0)\n",
    "df['DIABETES'].value_counts()"
   ]
  },
  {
   "cell_type": "code",
   "execution_count": 22,
   "metadata": {},
   "outputs": [
    {
     "data": {
      "text/plain": [
       "2     1030510\n",
       "1       15062\n",
       "98       3003\n",
       "Name: COPD, dtype: int64"
      ]
     },
     "execution_count": 22,
     "metadata": {},
     "output_type": "execute_result"
    }
   ],
   "source": [
    "df['COPD'].value_counts()"
   ]
  },
  {
   "cell_type": "code",
   "execution_count": 23,
   "metadata": {},
   "outputs": [
    {
     "data": {
      "text/plain": [
       "0    1033513\n",
       "1      15062\n",
       "Name: COPD, dtype: int64"
      ]
     },
     "execution_count": 23,
     "metadata": {},
     "output_type": "execute_result"
    }
   ],
   "source": [
    "df['COPD'] = df['COPD'].apply(lambda x: 1 if x==1 else 0)\n",
    "df['COPD'].value_counts()"
   ]
  },
  {
   "cell_type": "code",
   "execution_count": 24,
   "metadata": {},
   "outputs": [
    {
     "data": {
      "text/plain": [
       "2     1014024\n",
       "1       31572\n",
       "98       2979\n",
       "Name: ASTHMA, dtype: int64"
      ]
     },
     "execution_count": 24,
     "metadata": {},
     "output_type": "execute_result"
    }
   ],
   "source": [
    "df['ASTHMA'].value_counts()"
   ]
  },
  {
   "cell_type": "code",
   "execution_count": 25,
   "metadata": {},
   "outputs": [
    {
     "data": {
      "text/plain": [
       "0    1017003\n",
       "1      31572\n",
       "Name: ASTHMA, dtype: int64"
      ]
     },
     "execution_count": 25,
     "metadata": {},
     "output_type": "execute_result"
    }
   ],
   "source": [
    "df['ASTHMA'] = df['ASTHMA'].apply(lambda x: 1 if x==1 else 0)\n",
    "df['ASTHMA'].value_counts()"
   ]
  },
  {
   "cell_type": "code",
   "execution_count": 26,
   "metadata": {},
   "outputs": [
    {
     "data": {
      "text/plain": [
       "2     1031001\n",
       "1       14170\n",
       "98       3404\n",
       "Name: INMSUPR, dtype: int64"
      ]
     },
     "execution_count": 26,
     "metadata": {},
     "output_type": "execute_result"
    }
   ],
   "source": [
    "df['INMSUPR'].value_counts()"
   ]
  },
  {
   "cell_type": "code",
   "execution_count": 27,
   "metadata": {},
   "outputs": [
    {
     "data": {
      "text/plain": [
       "0    1034405\n",
       "1      14170\n",
       "Name: INMSUPR, dtype: int64"
      ]
     },
     "execution_count": 27,
     "metadata": {},
     "output_type": "execute_result"
    }
   ],
   "source": [
    "df['INMSUPR'] = df['INMSUPR'].apply(lambda x: 1 if x==1 else 0)\n",
    "df['INMSUPR'].value_counts()"
   ]
  },
  {
   "cell_type": "code",
   "execution_count": 28,
   "metadata": {},
   "outputs": [
    {
     "data": {
      "text/plain": [
       "2     882742\n",
       "1     162729\n",
       "98      3104\n",
       "Name: HIPERTENSION, dtype: int64"
      ]
     },
     "execution_count": 28,
     "metadata": {},
     "output_type": "execute_result"
    }
   ],
   "source": [
    "df['HIPERTENSION'].value_counts()"
   ]
  },
  {
   "cell_type": "code",
   "execution_count": 29,
   "metadata": {},
   "outputs": [
    {
     "data": {
      "text/plain": [
       "0    885846\n",
       "1    162729\n",
       "Name: HIPERTENSION, dtype: int64"
      ]
     },
     "execution_count": 29,
     "metadata": {},
     "output_type": "execute_result"
    }
   ],
   "source": [
    "df['HIPERTENSION'] = df['HIPERTENSION'].apply(lambda x: 1 if x==1 else 0)\n",
    "df['HIPERTENSION'].value_counts()"
   ]
  },
  {
   "cell_type": "code",
   "execution_count": 30,
   "metadata": {},
   "outputs": [
    {
     "data": {
      "text/plain": [
       "2     1015490\n",
       "1       28040\n",
       "98       5045\n",
       "Name: OTHER_DISEASE, dtype: int64"
      ]
     },
     "execution_count": 30,
     "metadata": {},
     "output_type": "execute_result"
    }
   ],
   "source": [
    "df['OTHER_DISEASE'].value_counts()"
   ]
  },
  {
   "cell_type": "code",
   "execution_count": 31,
   "metadata": {},
   "outputs": [
    {
     "data": {
      "text/plain": [
       "0    1020535\n",
       "1      28040\n",
       "Name: OTHER_DISEASE, dtype: int64"
      ]
     },
     "execution_count": 31,
     "metadata": {},
     "output_type": "execute_result"
    }
   ],
   "source": [
    "df['OTHER_DISEASE'] = df['OTHER_DISEASE'].apply(lambda x: 1 if x==1 else 0)\n",
    "df['OTHER_DISEASE'].value_counts()"
   ]
  },
  {
   "cell_type": "code",
   "execution_count": 32,
   "metadata": {},
   "outputs": [
    {
     "data": {
      "text/plain": [
       "2     1024730\n",
       "1       20769\n",
       "98       3076\n",
       "Name: CARDIOVASCULAR, dtype: int64"
      ]
     },
     "execution_count": 32,
     "metadata": {},
     "output_type": "execute_result"
    }
   ],
   "source": [
    "df['CARDIOVASCULAR'].value_counts()"
   ]
  },
  {
   "cell_type": "code",
   "execution_count": 33,
   "metadata": {},
   "outputs": [
    {
     "data": {
      "text/plain": [
       "0    1027806\n",
       "1      20769\n",
       "Name: CARDIOVASCULAR, dtype: int64"
      ]
     },
     "execution_count": 33,
     "metadata": {},
     "output_type": "execute_result"
    }
   ],
   "source": [
    "df['CARDIOVASCULAR'] = df['CARDIOVASCULAR'].apply(lambda x: 1 if x==1 else 0)\n",
    "df['CARDIOVASCULAR'].value_counts()"
   ]
  },
  {
   "cell_type": "code",
   "execution_count": 34,
   "metadata": {},
   "outputs": [
    {
     "data": {
      "text/plain": [
       "2     885727\n",
       "1     159816\n",
       "98      3032\n",
       "Name: OBESITY, dtype: int64"
      ]
     },
     "execution_count": 34,
     "metadata": {},
     "output_type": "execute_result"
    }
   ],
   "source": [
    "df['OBESITY'].value_counts()"
   ]
  },
  {
   "cell_type": "code",
   "execution_count": 35,
   "metadata": {},
   "outputs": [
    {
     "data": {
      "text/plain": [
       "0    888759\n",
       "1    159816\n",
       "Name: OBESITY, dtype: int64"
      ]
     },
     "execution_count": 35,
     "metadata": {},
     "output_type": "execute_result"
    }
   ],
   "source": [
    "df['OBESITY'] = df['OBESITY'].apply(lambda x: 1 if x==1 else 0)\n",
    "df['OBESITY'].value_counts()"
   ]
  },
  {
   "cell_type": "code",
   "execution_count": 36,
   "metadata": {},
   "outputs": [],
   "source": [
    "# predicting if a patient needs hospitalization or not\n",
    "# we will use random forest classifier to be able to provide explanation and also provide a probability of each outcome.\n",
    "X = df[['PNEUMONIA','PREGNANT','DIABETES','COPD','ASTHMA','INMSUPR','HIPERTENSION','OTHER_DISEASE','CARDIOVASCULAR','OBESITY','RENAL_CHRONIC','TOBACCO']].values\n",
    "y = df['PATIENT_TYPE'].values\n"
   ]
  },
  {
   "cell_type": "code",
   "execution_count": 37,
   "metadata": {},
   "outputs": [
    {
     "data": {
      "text/plain": [
       "pandas.core.frame.DataFrame"
      ]
     },
     "execution_count": 37,
     "metadata": {},
     "output_type": "execute_result"
    }
   ],
   "source": [
    "df_X = df[['PNEUMONIA','PREGNANT','DIABETES','COPD','ASTHMA','INMSUPR','HIPERTENSION','OTHER_DISEASE','CARDIOVASCULAR','OBESITY','RENAL_CHRONIC','TOBACCO']]\n",
    "type(df_X)"
   ]
  },
  {
   "cell_type": "code",
   "execution_count": 38,
   "metadata": {},
   "outputs": [],
   "source": [
    "from sklearn.model_selection import train_test_split\n",
    "X_train, X_test, y_train, y_test = train_test_split(X, y, test_size=0.2, random_state=13)"
   ]
  },
  {
   "cell_type": "code",
   "execution_count": 39,
   "metadata": {},
   "outputs": [
    {
     "data": {
      "text/plain": [
       "RandomForestClassifier(random_state=13)"
      ]
     },
     "execution_count": 39,
     "metadata": {},
     "output_type": "execute_result"
    }
   ],
   "source": [
    "# train the model\n",
    "from sklearn.ensemble import RandomForestClassifier\n",
    "rfc = RandomForestClassifier(n_estimators=100, random_state=13)\n",
    "rfc.fit(X_train, y_train)"
   ]
  },
  {
   "cell_type": "code",
   "execution_count": 40,
   "metadata": {},
   "outputs": [
    {
     "data": {
      "text/plain": [
       "0.899892711537086"
      ]
     },
     "execution_count": 40,
     "metadata": {},
     "output_type": "execute_result"
    }
   ],
   "source": [
    "from sklearn.metrics import accuracy_score\n",
    "accuracy_score(y_test, rfc.predict(X_test))\n",
    "# 90% accuracy is really good but we need to check the confusion matrix to see if the model is predicting the right class."
   ]
  },
  {
   "cell_type": "code",
   "execution_count": 82,
   "metadata": {},
   "outputs": [
    {
     "data": {
      "image/png": "[encoded data removed]",
      "text/plain": [
       "<Figure size 576x453.6 with 1 Axes>"
      ]
     },
     "metadata": {
      "needs_background": "light"
     },
     "output_type": "display_data"
    }
   ],
   "source": [
    "import shap\n",
    "from sklearn.ensemble import RandomForestRegressor\n",
    "# explain all the predictions in the test set\n",
    "explainer = shap.TreeExplainer(rfc)\n",
    "shap_values = explainer.shap_values(X_test[:100,:])\n",
    "shap.summary_plot(shap_values, X_test[:100,:])"
   ]
  },
  {
   "cell_type": "code",
   "execution_count": 95,
   "metadata": {},
   "outputs": [],
   "source": [
    "# base on the results we can see that most effective variables in prediction of hospitalization are \n",
    "# PNEUMONIA, HIPERTENSION, and DIABETES\n"
   ]
  },
  {
   "cell_type": "code",
   "execution_count": 43,
   "metadata": {},
   "outputs": [
    {
     "data": {
      "text/plain": [
       "array([[ 24204,  15959],\n",
       "       [  5035, 164517]])"
      ]
     },
     "execution_count": 43,
     "metadata": {},
     "output_type": "execute_result"
    }
   ],
   "source": [
    "from sklearn.metrics import confusion_matrix\n",
    "confusion_matrix(y_test, RFC.predict(X_test))\n",
    "# it can be seen that fp rate is almost 20% however fn percent is around 10%\n",
    "# this is due to enbalanceness of the data\n",
    "# with under sampling this problem might be solved"
   ]
  },
  {
   "cell_type": "code",
   "execution_count": 87,
   "metadata": {},
   "outputs": [
    {
     "data": {
      "text/html": [
       "\n",
       "<div id='iEKXR5DXJ02EOJ8B5Z8SW'>\n",
       "<div style='color: #900; text-align: center;'>\n",
       "  <b>Visualization omitted, Javascript library not loaded!</b><br>\n",
       "  Have you run `initjs()` in this notebook? If this notebook was from another\n",
       "  user you must also trust this notebook (File -> Trust notebook). If you are viewing\n",
       "  this notebook on github the Javascript has been stripped for security. If you are using\n",
       "  JupyterLab this error is because a JupyterLab extension has not yet been written.\n",
       "</div></div>\n",
       " <script>\n",
       "   if (window.SHAP) SHAP.ReactDom.render(\n",
       "    SHAP.React.createElement(SHAP.AdditiveForceArrayVisualizer, {\"outNames\": [\"f(x)\"], \"baseValue\": 0.19834650372097784, \"link\": \"identity\", \"featureNames\": [\"Feature 0\", \"Feature 1\", \"Feature 2\", \"Feature 3\", \"Feature 4\", \"Feature 5\", \"Feature 6\", \"Feature 7\", \"Feature 8\", \"Feature 9\", \"Feature 10\", \"Feature 11\"], \"explanations\": [{\"outValue\": 0.11108081828482191, \"simIndex\": 20.0, \"features\": {\"0\": {\"effect\": -0.11131046390404266, \"value\": 0.0}, \"1\": {\"effect\": -0.0014954381814266983, \"value\": 0.0}, \"2\": {\"effect\": -0.009074438656186026, \"value\": 0.0}, \"3\": {\"effect\": 0.0, \"value\": 0.0}, \"4\": {\"effect\": -0.017506758243010012, \"value\": 1.0}, \"5\": {\"effect\": -0.0016172995284934738, \"value\": 0.0}, \"6\": {\"effect\": 0.05805244827207525, \"value\": 1.0}, \"7\": {\"effect\": -0.004456295342888467, \"value\": 0.0}, \"8\": {\"effect\": 0.0, \"value\": 0.0}, \"9\": {\"effect\": 0.000142560147816162, \"value\": 0.0}, \"10\": {\"effect\": 0.0, \"value\": 2.0}, \"11\": {\"effect\": 0.0, \"value\": 2.0}}}, {\"outValue\": 0.060793424798369966, \"simIndex\": 54.0, \"features\": {\"0\": {\"effect\": -0.11180529097944622, \"value\": 0.0}, \"1\": {\"effect\": -0.0024583799445071705, \"value\": 0.0}, \"2\": {\"effect\": -0.00915834356240506, \"value\": 0.0}, \"3\": {\"effect\": 0.0, \"value\": 0.0}, \"4\": {\"effect\": 1.692238101103083e-05, \"value\": 0.0}, \"5\": {\"effect\": -0.003396567444916593, \"value\": 0.0}, \"6\": {\"effect\": -0.004656171039518986, \"value\": 0.0}, \"7\": {\"effect\": -0.0060189532404484325, \"value\": 0.0}, \"8\": {\"effect\": 0.0, \"value\": 0.0}, \"9\": {\"effect\": -7.629509237644383e-05, \"value\": 0.0}, \"10\": {\"effect\": 0.0, \"value\": 2.0}, \"11\": {\"effect\": 0.0, \"value\": 2.0}}}, {\"outValue\": 0.0551819569460017, \"simIndex\": 85.0, \"features\": {\"0\": {\"effect\": -0.1151323731685533, \"value\": 0.0}, \"1\": {\"effect\": -0.003961535033307068, \"value\": 0.0}, \"2\": {\"effect\": -0.00841929848535089, \"value\": 0.0}, \"3\": {\"effect\": 0.0, \"value\": 0.0}, \"4\": {\"effect\": 6.195017857141272e-05, \"value\": 0.0}, \"5\": {\"effect\": -0.002274571121497114, \"value\": 0.0}, \"6\": {\"effect\": -0.004026760620193526, \"value\": 0.0}, \"7\": {\"effect\": -0.004771757564614107, \"value\": 0.0}, \"8\": {\"effect\": 0.0, \"value\": 0.0}, \"9\": {\"effect\": 0.006532061949985568, \"value\": 1.0}, \"10\": {\"effect\": 0.0, \"value\": 2.0}, \"11\": {\"effect\": -0.011172262910017106, \"value\": 1.0}}}, {\"outValue\": 0.06437566832274591, \"simIndex\": 82.0, \"features\": {\"0\": {\"effect\": -0.11510541476702282, \"value\": 0.0}, \"1\": {\"effect\": -0.0030548067218249403, \"value\": 0.0}, \"2\": {\"effect\": -0.007966384769857393, \"value\": 0.0}, \"3\": {\"effect\": 0.0, \"value\": 0.0}, \"4\": {\"effect\": 0.00010946421818265606, \"value\": 0.0}, \"5\": {\"effect\": -0.002177974717088804, \"value\": 0.0}, \"6\": {\"effect\": -0.0039027143284837557, \"value\": 0.0}, \"7\": {\"effect\": -0.004865751304495944, \"value\": 0.0}, \"8\": {\"effect\": 0.0, \"value\": 0.0}, \"9\": {\"effect\": 0.0029927469923590466, \"value\": 1.0}, \"10\": {\"effect\": 0.0, \"value\": 2.0}, \"11\": {\"effect\": 0.0, \"value\": 2.0}}}, {\"outValue\": 0.060793424798369966, \"simIndex\": 55.0, \"features\": {\"0\": {\"effect\": -0.11180529097944622, \"value\": 0.0}, \"1\": {\"effect\": -0.0024583799445071705, \"value\": 0.0}, \"2\": {\"effect\": -0.00915834356240506, \"value\": 0.0}, \"3\": {\"effect\": 0.0, \"value\": 0.0}, \"4\": {\"effect\": 1.692238101103083e-05, \"value\": 0.0}, \"5\": {\"effect\": -0.003396567444916593, \"value\": 0.0}, \"6\": {\"effect\": -0.004656171039518986, \"value\": 0.0}, \"7\": {\"effect\": -0.0060189532404484325, \"value\": 0.0}, \"8\": {\"effect\": 0.0, \"value\": 0.0}, \"9\": {\"effect\": -7.629509237644383e-05, \"value\": 0.0}, \"10\": {\"effect\": 0.0, \"value\": 2.0}, \"11\": {\"effect\": 0.0, \"value\": 2.0}}}, {\"outValue\": 0.813897394557178, \"simIndex\": 4.0, \"features\": {\"0\": {\"effect\": 0.6081185290254608, \"value\": 1.0}, \"1\": {\"effect\": -0.0019542950167519835, \"value\": 0.0}, \"2\": {\"effect\": -0.0071893933116939646, \"value\": 0.0}, \"3\": {\"effect\": 0.0, \"value\": 0.0}, \"4\": {\"effect\": 0.0012136300111309506, \"value\": 0.0}, \"5\": {\"effect\": -0.0008252372052491297, \"value\": 0.0}, \"6\": {\"effect\": -0.003516133665921628, \"value\": 0.0}, \"7\": {\"effect\": -0.003528110628725545, \"value\": 0.0}, \"8\": {\"effect\": 0.0, \"value\": 0.0}, \"9\": {\"effect\": 0.023231901627950746, \"value\": 1.0}, \"10\": {\"effect\": 0.0, \"value\": 2.0}, \"11\": {\"effect\": 0.0, \"value\": 2.0}}}, {\"outValue\": 0.060793424798369966, \"simIndex\": 56.0, \"features\": {\"0\": {\"effect\": -0.11180529097944622, \"value\": 0.0}, \"1\": {\"effect\": -0.0024583799445071705, \"value\": 0.0}, \"2\": {\"effect\": -0.00915834356240506, \"value\": 0.0}, \"3\": {\"effect\": 0.0, \"value\": 0.0}, \"4\": {\"effect\": 1.692238101103083e-05, \"value\": 0.0}, \"5\": {\"effect\": -0.003396567444916593, \"value\": 0.0}, \"6\": {\"effect\": -0.004656171039518986, \"value\": 0.0}, \"7\": {\"effect\": -0.0060189532404484325, \"value\": 0.0}, \"8\": {\"effect\": 0.0, \"value\": 0.0}, \"9\": {\"effect\": -7.629509237644383e-05, \"value\": 0.0}, \"10\": {\"effect\": 0.0, \"value\": 2.0}, \"11\": {\"effect\": 0.0, \"value\": 2.0}}}, {\"outValue\": 0.060793424798369966, \"simIndex\": 53.0, \"features\": {\"0\": {\"effect\": -0.11180529097944622, \"value\": 0.0}, \"1\": {\"effect\": -0.0024583799445071705, \"value\": 0.0}, \"2\": {\"effect\": -0.00915834356240506, \"value\": 0.0}, \"3\": {\"effect\": 0.0, \"value\": 0.0}, \"4\": {\"effect\": 1.692238101103083e-05, \"value\": 0.0}, \"5\": {\"effect\": -0.003396567444916593, \"value\": 0.0}, \"6\": {\"effect\": -0.004656171039518986, \"value\": 0.0}, \"7\": {\"effect\": -0.0060189532404484325, \"value\": 0.0}, \"8\": {\"effect\": 0.0, \"value\": 0.0}, \"9\": {\"effect\": -7.629509237644383e-05, \"value\": 0.0}, \"10\": {\"effect\": 0.0, \"value\": 2.0}, \"11\": {\"effect\": 0.0, \"value\": 2.0}}}, {\"outValue\": 0.060793424798369966, \"simIndex\": 57.0, \"features\": {\"0\": {\"effect\": -0.11180529097944622, \"value\": 0.0}, \"1\": {\"effect\": -0.0024583799445071705, \"value\": 0.0}, \"2\": {\"effect\": -0.00915834356240506, \"value\": 0.0}, \"3\": {\"effect\": 0.0, \"value\": 0.0}, \"4\": {\"effect\": 1.692238101103083e-05, \"value\": 0.0}, \"5\": {\"effect\": -0.003396567444916593, \"value\": 0.0}, \"6\": {\"effect\": -0.004656171039518986, \"value\": 0.0}, \"7\": {\"effect\": -0.0060189532404484325, \"value\": 0.0}, \"8\": {\"effect\": 0.0, \"value\": 0.0}, \"9\": {\"effect\": -7.629509237644383e-05, \"value\": 0.0}, \"10\": {\"effect\": 0.0, \"value\": 2.0}, \"11\": {\"effect\": 0.0, \"value\": 2.0}}}, {\"outValue\": 0.04364237432054768, \"simIndex\": 88.0, \"features\": {\"0\": {\"effect\": -0.11355433956812594, \"value\": 0.0}, \"1\": {\"effect\": -0.0025092297803085833, \"value\": 0.0}, \"2\": {\"effect\": -0.00973096095181819, \"value\": 0.0}, \"3\": {\"effect\": 0.0, \"value\": 0.0}, \"4\": {\"effect\": 7.247867048754131e-06, \"value\": 0.0}, \"5\": {\"effect\": -0.0026537150431161644, \"value\": 0.0}, \"6\": {\"effect\": -0.004972140563271388, \"value\": 0.0}, \"7\": {\"effect\": -0.005820615493495523, \"value\": 0.0}, \"8\": {\"effect\": 0.0, \"value\": 0.0}, \"9\": {\"effect\": -0.00041754654603798347, \"value\": 0.0}, \"10\": {\"effect\": 0.0, \"value\": 2.0}, \"11\": {\"effect\": -0.015052829321305139, \"value\": 1.0}}}, {\"outValue\": 0.060793424798369966, \"simIndex\": 52.0, \"features\": {\"0\": {\"effect\": -0.11180529097944622, \"value\": 0.0}, \"1\": {\"effect\": -0.0024583799445071705, \"value\": 0.0}, \"2\": {\"effect\": -0.00915834356240506, \"value\": 0.0}, \"3\": {\"effect\": 0.0, \"value\": 0.0}, \"4\": {\"effect\": 1.692238101103083e-05, \"value\": 0.0}, \"5\": {\"effect\": -0.003396567444916593, \"value\": 0.0}, \"6\": {\"effect\": -0.004656171039518986, \"value\": 0.0}, \"7\": {\"effect\": -0.0060189532404484325, \"value\": 0.0}, \"8\": {\"effect\": 0.0, \"value\": 0.0}, \"9\": {\"effect\": -7.629509237644383e-05, \"value\": 0.0}, \"10\": {\"effect\": 0.0, \"value\": 2.0}, \"11\": {\"effect\": 0.0, \"value\": 2.0}}}, {\"outValue\": 0.060793424798369966, \"simIndex\": 58.0, \"features\": {\"0\": {\"effect\": -0.11180529097944622, \"value\": 0.0}, \"1\": {\"effect\": -0.0024583799445071705, \"value\": 0.0}, \"2\": {\"effect\": -0.00915834356240506, \"value\": 0.0}, \"3\": {\"effect\": 0.0, \"value\": 0.0}, \"4\": {\"effect\": 1.692238101103083e-05, \"value\": 0.0}, \"5\": {\"effect\": -0.003396567444916593, \"value\": 0.0}, \"6\": {\"effect\": -0.004656171039518986, \"value\": 0.0}, \"7\": {\"effect\": -0.0060189532404484325, \"value\": 0.0}, \"8\": {\"effect\": 0.0, \"value\": 0.0}, \"9\": {\"effect\": -7.629509237644383e-05, \"value\": 0.0}, \"10\": {\"effect\": 0.0, \"value\": 2.0}, \"11\": {\"effect\": 0.0, \"value\": 2.0}}}, {\"outValue\": 0.060793424798369966, \"simIndex\": 51.0, \"features\": {\"0\": {\"effect\": -0.11180529097944622, \"value\": 0.0}, \"1\": {\"effect\": -0.0024583799445071705, \"value\": 0.0}, \"2\": {\"effect\": -0.00915834356240506, \"value\": 0.0}, \"3\": {\"effect\": 0.0, \"value\": 0.0}, \"4\": {\"effect\": 1.692238101103083e-05, \"value\": 0.0}, \"5\": {\"effect\": -0.003396567444916593, \"value\": 0.0}, \"6\": {\"effect\": -0.004656171039518986, \"value\": 0.0}, \"7\": {\"effect\": -0.0060189532404484325, \"value\": 0.0}, \"8\": {\"effect\": 0.0, \"value\": 0.0}, \"9\": {\"effect\": -7.629509237644383e-05, \"value\": 0.0}, \"10\": {\"effect\": 0.0, \"value\": 2.0}, \"11\": {\"effect\": 0.0, \"value\": 2.0}}}, {\"outValue\": 0.04364237432054768, \"simIndex\": 87.0, \"features\": {\"0\": {\"effect\": -0.11355433956812594, \"value\": 0.0}, \"1\": {\"effect\": -0.0025092297803085833, \"value\": 0.0}, \"2\": {\"effect\": -0.00973096095181819, \"value\": 0.0}, \"3\": {\"effect\": 0.0, \"value\": 0.0}, \"4\": {\"effect\": 7.247867048754131e-06, \"value\": 0.0}, \"5\": {\"effect\": -0.0026537150431161644, \"value\": 0.0}, \"6\": {\"effect\": -0.004972140563271388, \"value\": 0.0}, \"7\": {\"effect\": -0.005820615493495523, \"value\": 0.0}, \"8\": {\"effect\": 0.0, \"value\": 0.0}, \"9\": {\"effect\": -0.00041754654603798347, \"value\": 0.0}, \"10\": {\"effect\": 0.0, \"value\": 2.0}, \"11\": {\"effect\": -0.015052829321305139, \"value\": 1.0}}}, {\"outValue\": 0.060793424798369966, \"simIndex\": 59.0, \"features\": {\"0\": {\"effect\": -0.11180529097944622, \"value\": 0.0}, \"1\": {\"effect\": -0.0024583799445071705, \"value\": 0.0}, \"2\": {\"effect\": -0.00915834356240506, \"value\": 0.0}, \"3\": {\"effect\": 0.0, \"value\": 0.0}, \"4\": {\"effect\": 1.692238101103083e-05, \"value\": 0.0}, \"5\": {\"effect\": -0.003396567444916593, \"value\": 0.0}, \"6\": {\"effect\": -0.004656171039518986, \"value\": 0.0}, \"7\": {\"effect\": -0.0060189532404484325, \"value\": 0.0}, \"8\": {\"effect\": 0.0, \"value\": 0.0}, \"9\": {\"effect\": -7.629509237644383e-05, \"value\": 0.0}, \"10\": {\"effect\": 0.0, \"value\": 2.0}, \"11\": {\"effect\": 0.0, \"value\": 2.0}}}, {\"outValue\": 0.060793424798369966, \"simIndex\": 50.0, \"features\": {\"0\": {\"effect\": -0.11180529097944622, \"value\": 0.0}, \"1\": {\"effect\": -0.0024583799445071705, \"value\": 0.0}, \"2\": {\"effect\": -0.00915834356240506, \"value\": 0.0}, \"3\": {\"effect\": 0.0, \"value\": 0.0}, \"4\": {\"effect\": 1.692238101103083e-05, \"value\": 0.0}, \"5\": {\"effect\": -0.003396567444916593, \"value\": 0.0}, \"6\": {\"effect\": -0.004656171039518986, \"value\": 0.0}, \"7\": {\"effect\": -0.0060189532404484325, \"value\": 0.0}, \"8\": {\"effect\": 0.0, \"value\": 0.0}, \"9\": {\"effect\": -7.629509237644383e-05, \"value\": 0.0}, \"10\": {\"effect\": 0.0, \"value\": 2.0}, \"11\": {\"effect\": 0.0, \"value\": 2.0}}}, {\"outValue\": 0.060793424798369966, \"simIndex\": 60.0, \"features\": {\"0\": {\"effect\": -0.11180529097944622, \"value\": 0.0}, \"1\": {\"effect\": -0.0024583799445071705, \"value\": 0.0}, \"2\": {\"effect\": -0.00915834356240506, \"value\": 0.0}, \"3\": {\"effect\": 0.0, \"value\": 0.0}, \"4\": {\"effect\": 1.692238101103083e-05, \"value\": 0.0}, \"5\": {\"effect\": -0.003396567444916593, \"value\": 0.0}, \"6\": {\"effect\": -0.004656171039518986, \"value\": 0.0}, \"7\": {\"effect\": -0.0060189532404484325, \"value\": 0.0}, \"8\": {\"effect\": 0.0, \"value\": 0.0}, \"9\": {\"effect\": -7.629509237644383e-05, \"value\": 0.0}, \"10\": {\"effect\": 0.0, \"value\": 2.0}, \"11\": {\"effect\": 0.0, \"value\": 2.0}}}, {\"outValue\": 0.813897394557178, \"simIndex\": 5.0, \"features\": {\"0\": {\"effect\": 0.6081185290254608, \"value\": 1.0}, \"1\": {\"effect\": -0.0019542950167519835, \"value\": 0.0}, \"2\": {\"effect\": -0.0071893933116939646, \"value\": 0.0}, \"3\": {\"effect\": 0.0, \"value\": 0.0}, \"4\": {\"effect\": 0.0012136300111309506, \"value\": 0.0}, \"5\": {\"effect\": -0.0008252372052491297, \"value\": 0.0}, \"6\": {\"effect\": -0.003516133665921628, \"value\": 0.0}, \"7\": {\"effect\": -0.003528110628725545, \"value\": 0.0}, \"8\": {\"effect\": 0.0, \"value\": 0.0}, \"9\": {\"effect\": 0.023231901627950746, \"value\": 1.0}, \"10\": {\"effect\": 0.0, \"value\": 2.0}, \"11\": {\"effect\": 0.0, \"value\": 2.0}}}, {\"outValue\": 0.06437566832274591, \"simIndex\": 83.0, \"features\": {\"0\": {\"effect\": -0.11510541476702282, \"value\": 0.0}, \"1\": {\"effect\": -0.0030548067218249403, \"value\": 0.0}, \"2\": {\"effect\": -0.007966384769857393, \"value\": 0.0}, \"3\": {\"effect\": 0.0, \"value\": 0.0}, \"4\": {\"effect\": 0.00010946421818265606, \"value\": 0.0}, \"5\": {\"effect\": -0.002177974717088804, \"value\": 0.0}, \"6\": {\"effect\": -0.0039027143284837557, \"value\": 0.0}, \"7\": {\"effect\": -0.004865751304495944, \"value\": 0.0}, \"8\": {\"effect\": 0.0, \"value\": 0.0}, \"9\": {\"effect\": 0.0029927469923590466, \"value\": 1.0}, \"10\": {\"effect\": 0.0, \"value\": 2.0}, \"11\": {\"effect\": 0.0, \"value\": 2.0}}}, {\"outValue\": 0.060793424798369966, \"simIndex\": 49.0, \"features\": {\"0\": {\"effect\": -0.11180529097944622, \"value\": 0.0}, \"1\": {\"effect\": -0.0024583799445071705, \"value\": 0.0}, \"2\": {\"effect\": -0.00915834356240506, \"value\": 0.0}, \"3\": {\"effect\": 0.0, \"value\": 0.0}, \"4\": {\"effect\": 1.692238101103083e-05, \"value\": 0.0}, \"5\": {\"effect\": -0.003396567444916593, \"value\": 0.0}, \"6\": {\"effect\": -0.004656171039518986, \"value\": 0.0}, \"7\": {\"effect\": -0.0060189532404484325, \"value\": 0.0}, \"8\": {\"effect\": 0.0, \"value\": 0.0}, \"9\": {\"effect\": -7.629509237644383e-05, \"value\": 0.0}, \"10\": {\"effect\": 0.0, \"value\": 2.0}, \"11\": {\"effect\": 0.0, \"value\": 2.0}}}, {\"outValue\": 0.060793424798369966, \"simIndex\": 61.0, \"features\": {\"0\": {\"effect\": -0.11180529097944622, \"value\": 0.0}, \"1\": {\"effect\": -0.0024583799445071705, \"value\": 0.0}, \"2\": {\"effect\": -0.00915834356240506, \"value\": 0.0}, \"3\": {\"effect\": 0.0, \"value\": 0.0}, \"4\": {\"effect\": 1.692238101103083e-05, \"value\": 0.0}, \"5\": {\"effect\": -0.003396567444916593, \"value\": 0.0}, \"6\": {\"effect\": -0.004656171039518986, \"value\": 0.0}, \"7\": {\"effect\": -0.0060189532404484325, \"value\": 0.0}, \"8\": {\"effect\": 0.0, \"value\": 0.0}, \"9\": {\"effect\": -7.629509237644383e-05, \"value\": 0.0}, \"10\": {\"effect\": 0.0, \"value\": 2.0}, \"11\": {\"effect\": 0.0, \"value\": 2.0}}}, {\"outValue\": 0.1299972342297595, \"simIndex\": 25.0, \"features\": {\"0\": {\"effect\": -0.11423140518647258, \"value\": 0.0}, \"1\": {\"effect\": -0.0027087868230965886, \"value\": 0.0}, \"2\": {\"effect\": -0.00936953977100264, \"value\": 0.0}, \"3\": {\"effect\": 0.0, \"value\": 0.0}, \"4\": {\"effect\": 0.00030693287046785686, \"value\": 0.0}, \"5\": {\"effect\": -0.002413914342157604, \"value\": 0.0}, \"6\": {\"effect\": 0.06619602703856223, \"value\": 1.0}, \"7\": {\"effect\": -0.006919954687722711, \"value\": 0.0}, \"8\": {\"effect\": 0.0, \"value\": 0.0}, \"9\": {\"effect\": 0.0007913714102036895, \"value\": 0.0}, \"10\": {\"effect\": 0.0, \"value\": 2.0}, \"11\": {\"effect\": 0.0, \"value\": 2.0}}}, {\"outValue\": 0.7643518923798325, \"simIndex\": 9.0, \"features\": {\"0\": {\"effect\": 0.5888595422559711, \"value\": 1.0}, \"1\": {\"effect\": -0.0015669353817749365, \"value\": 0.0}, \"2\": {\"effect\": -0.00886235502727123, \"value\": 0.0}, \"3\": {\"effect\": 0.0, \"value\": 0.0}, \"4\": {\"effect\": 0.0017183286762589567, \"value\": 0.0}, \"5\": {\"effect\": -0.0023759141068082634, \"value\": 0.0}, \"6\": {\"effect\": -0.0047120924494087335, \"value\": 0.0}, \"7\": {\"effect\": -0.004658934294260786, \"value\": 0.0}, \"8\": {\"effect\": 0.0, \"value\": 0.0}, \"9\": {\"effect\": -0.002396251013851436, \"value\": 0.0}, \"10\": {\"effect\": 0.0, \"value\": 2.0}, \"11\": {\"effect\": 0.0, \"value\": 2.0}}}, {\"outValue\": 0.060793424798369966, \"simIndex\": 48.0, \"features\": {\"0\": {\"effect\": -0.11180529097944622, \"value\": 0.0}, \"1\": {\"effect\": -0.0024583799445071705, \"value\": 0.0}, \"2\": {\"effect\": -0.00915834356240506, \"value\": 0.0}, \"3\": {\"effect\": 0.0, \"value\": 0.0}, \"4\": {\"effect\": 1.692238101103083e-05, \"value\": 0.0}, \"5\": {\"effect\": -0.003396567444916593, \"value\": 0.0}, \"6\": {\"effect\": -0.004656171039518986, \"value\": 0.0}, \"7\": {\"effect\": -0.0060189532404484325, \"value\": 0.0}, \"8\": {\"effect\": 0.0, \"value\": 0.0}, \"9\": {\"effect\": -7.629509237644383e-05, \"value\": 0.0}, \"10\": {\"effect\": 0.0, \"value\": 2.0}, \"11\": {\"effect\": 0.0, \"value\": 2.0}}}, {\"outValue\": 0.3769525939652676, \"simIndex\": 100.0, \"features\": {\"0\": {\"effect\": -0.10223668811069478, \"value\": 0.0}, \"1\": {\"effect\": -0.004251815528990885, \"value\": 0.0}, \"2\": {\"effect\": 0.10544347965357886, \"value\": 1.0}, \"3\": {\"effect\": 0.0, \"value\": 0.0}, \"4\": {\"effect\": 0.002575860961284371, \"value\": 0.0}, \"5\": {\"effect\": -0.0012696848234411695, \"value\": 0.0}, \"6\": {\"effect\": 0.08361235640847756, \"value\": 1.0}, \"7\": {\"effect\": -0.005446816436332075, \"value\": 0.0}, \"8\": {\"effect\": 0.09703829095853049, \"value\": 1.0}, \"9\": {\"effect\": 0.0031411071618773767, \"value\": 0.0}, \"10\": {\"effect\": 0.0, \"value\": 2.0}, \"11\": {\"effect\": 0.0, \"value\": 2.0}}}, {\"outValue\": 0.2103284277559511, \"simIndex\": 99.0, \"features\": {\"0\": {\"effect\": -0.11167734229498565, \"value\": 0.0}, \"1\": {\"effect\": -0.003569729312780672, \"value\": 0.0}, \"2\": {\"effect\": 0.09416110803675133, \"value\": 1.0}, \"3\": {\"effect\": 0.0, \"value\": 0.0}, \"4\": {\"effect\": 0.001136514342097359, \"value\": 0.0}, \"5\": {\"effect\": -0.0017885740311168168, \"value\": 0.0}, \"6\": {\"effect\": 0.061451142446247844, \"value\": 1.0}, \"7\": {\"effect\": -0.0065811511947926, \"value\": 0.0}, \"8\": {\"effect\": 0.0, \"value\": 0.0}, \"9\": {\"effect\": -0.021150043956447553, \"value\": 1.0}, \"10\": {\"effect\": 0.0, \"value\": 2.0}, \"11\": {\"effect\": 0.0, \"value\": 2.0}}}, {\"outValue\": 0.1299972342297595, \"simIndex\": 24.0, \"features\": {\"0\": {\"effect\": -0.11423140518647258, \"value\": 0.0}, \"1\": {\"effect\": -0.0027087868230965886, \"value\": 0.0}, \"2\": {\"effect\": -0.00936953977100264, \"value\": 0.0}, \"3\": {\"effect\": 0.0, \"value\": 0.0}, \"4\": {\"effect\": 0.00030693287046785686, \"value\": 0.0}, \"5\": {\"effect\": -0.002413914342157604, \"value\": 0.0}, \"6\": {\"effect\": 0.06619602703856223, \"value\": 1.0}, \"7\": {\"effect\": -0.006919954687722711, \"value\": 0.0}, \"8\": {\"effect\": 0.0, \"value\": 0.0}, \"9\": {\"effect\": 0.0007913714102036895, \"value\": 0.0}, \"10\": {\"effect\": 0.0, \"value\": 2.0}, \"11\": {\"effect\": 0.0, \"value\": 2.0}}}, {\"outValue\": 0.06437566832274591, \"simIndex\": 84.0, \"features\": {\"0\": {\"effect\": -0.11510541476702282, \"value\": 0.0}, \"1\": {\"effect\": -0.0030548067218249403, \"value\": 0.0}, \"2\": {\"effect\": -0.007966384769857393, \"value\": 0.0}, \"3\": {\"effect\": 0.0, \"value\": 0.0}, \"4\": {\"effect\": 0.00010946421818265606, \"value\": 0.0}, \"5\": {\"effect\": -0.002177974717088804, \"value\": 0.0}, \"6\": {\"effect\": -0.0039027143284837557, \"value\": 0.0}, \"7\": {\"effect\": -0.004865751304495944, \"value\": 0.0}, \"8\": {\"effect\": 0.0, \"value\": 0.0}, \"9\": {\"effect\": 0.0029927469923590466, \"value\": 1.0}, \"10\": {\"effect\": 0.0, \"value\": 2.0}, \"11\": {\"effect\": 0.0, \"value\": 2.0}}}, {\"outValue\": 0.060793424798369966, \"simIndex\": 62.0, \"features\": {\"0\": {\"effect\": -0.11180529097944622, \"value\": 0.0}, \"1\": {\"effect\": -0.0024583799445071705, \"value\": 0.0}, \"2\": {\"effect\": -0.00915834356240506, \"value\": 0.0}, \"3\": {\"effect\": 0.0, \"value\": 0.0}, \"4\": {\"effect\": 1.692238101103083e-05, \"value\": 0.0}, \"5\": {\"effect\": -0.003396567444916593, \"value\": 0.0}, \"6\": {\"effect\": -0.004656171039518986, \"value\": 0.0}, \"7\": {\"effect\": -0.0060189532404484325, \"value\": 0.0}, \"8\": {\"effect\": 0.0, \"value\": 0.0}, \"9\": {\"effect\": -7.629509237644383e-05, \"value\": 0.0}, \"10\": {\"effect\": 0.0, \"value\": 2.0}, \"11\": {\"effect\": 0.0, \"value\": 2.0}}}, {\"outValue\": 0.17564116426373308, \"simIndex\": 94.0, \"features\": {\"0\": {\"effect\": -0.11258832836781328, \"value\": 0.0}, \"1\": {\"effect\": -0.0016737827673626998, \"value\": 0.0}, \"2\": {\"effect\": 0.10378611498116991, \"value\": 1.0}, \"3\": {\"effect\": 0.0, \"value\": 0.0}, \"4\": {\"effect\": -2.9592591456779546e-05, \"value\": 0.0}, \"5\": {\"effect\": -0.002600236962480936, \"value\": 0.0}, \"6\": {\"effect\": -0.005060054821817789, \"value\": 0.0}, \"7\": {\"effect\": -0.006098004672887526, \"value\": 0.0}, \"8\": {\"effect\": 0.0, \"value\": 0.0}, \"9\": {\"effect\": 0.0015585457454043439, \"value\": 0.0}, \"10\": {\"effect\": 0.0, \"value\": 2.0}, \"11\": {\"effect\": 0.0, \"value\": 2.0}}}, {\"outValue\": 0.813897394557178, \"simIndex\": 6.0, \"features\": {\"0\": {\"effect\": 0.6081185290254608, \"value\": 1.0}, \"1\": {\"effect\": -0.0019542950167519835, \"value\": 0.0}, \"2\": {\"effect\": -0.0071893933116939646, \"value\": 0.0}, \"3\": {\"effect\": 0.0, \"value\": 0.0}, \"4\": {\"effect\": 0.0012136300111309506, \"value\": 0.0}, \"5\": {\"effect\": -0.0008252372052491297, \"value\": 0.0}, \"6\": {\"effect\": -0.003516133665921628, \"value\": 0.0}, \"7\": {\"effect\": -0.003528110628725545, \"value\": 0.0}, \"8\": {\"effect\": 0.0, \"value\": 0.0}, \"9\": {\"effect\": 0.023231901627950746, \"value\": 1.0}, \"10\": {\"effect\": 0.0, \"value\": 2.0}, \"11\": {\"effect\": 0.0, \"value\": 2.0}}}, {\"outValue\": 0.7643518923798325, \"simIndex\": 10.0, \"features\": {\"0\": {\"effect\": 0.5888595422559711, \"value\": 1.0}, \"1\": {\"effect\": -0.0015669353817749365, \"value\": 0.0}, \"2\": {\"effect\": -0.00886235502727123, \"value\": 0.0}, \"3\": {\"effect\": 0.0, \"value\": 0.0}, \"4\": {\"effect\": 0.0017183286762589567, \"value\": 0.0}, \"5\": {\"effect\": -0.0023759141068082634, \"value\": 0.0}, \"6\": {\"effect\": -0.0047120924494087335, \"value\": 0.0}, \"7\": {\"effect\": -0.004658934294260786, \"value\": 0.0}, \"8\": {\"effect\": 0.0, \"value\": 0.0}, \"9\": {\"effect\": -0.002396251013851436, \"value\": 0.0}, \"10\": {\"effect\": 0.0, \"value\": 2.0}, \"11\": {\"effect\": 0.0, \"value\": 2.0}}}, {\"outValue\": 0.894021369603167, \"simIndex\": 2.0, \"features\": {\"0\": {\"effect\": 0.5940401144924612, \"value\": 1.0}, \"1\": {\"effect\": -0.0011382002945506398, \"value\": 0.0}, \"2\": {\"effect\": 0.11004571314116063, \"value\": 1.0}, \"3\": {\"effect\": 0.0, \"value\": 0.0}, \"4\": {\"effect\": 0.0014512527478278692, \"value\": 0.0}, \"5\": {\"effect\": -0.001501264716919526, \"value\": 0.0}, \"6\": {\"effect\": -0.002986510482512361, \"value\": 0.0}, \"7\": {\"effect\": -0.004102038271186437, \"value\": 0.0}, \"8\": {\"effect\": 0.0, \"value\": 0.0}, \"9\": {\"effect\": -0.00013420073409164957, \"value\": 0.0}, \"10\": {\"effect\": 0.0, \"value\": 2.0}, \"11\": {\"effect\": 0.0, \"value\": 2.0}}}, {\"outValue\": 0.060793424798369966, \"simIndex\": 47.0, \"features\": {\"0\": {\"effect\": -0.11180529097944622, \"value\": 0.0}, \"1\": {\"effect\": -0.0024583799445071705, \"value\": 0.0}, \"2\": {\"effect\": -0.00915834356240506, \"value\": 0.0}, \"3\": {\"effect\": 0.0, \"value\": 0.0}, \"4\": {\"effect\": 1.692238101103083e-05, \"value\": 0.0}, \"5\": {\"effect\": -0.003396567444916593, \"value\": 0.0}, \"6\": {\"effect\": -0.004656171039518986, \"value\": 0.0}, \"7\": {\"effect\": -0.0060189532404484325, \"value\": 0.0}, \"8\": {\"effect\": 0.0, \"value\": 0.0}, \"9\": {\"effect\": -7.629509237644383e-05, \"value\": 0.0}, \"10\": {\"effect\": 0.0, \"value\": 2.0}, \"11\": {\"effect\": 0.0, \"value\": 2.0}}}, {\"outValue\": 0.060793424798369966, \"simIndex\": 63.0, \"features\": {\"0\": {\"effect\": -0.11180529097944622, \"value\": 0.0}, \"1\": {\"effect\": -0.0024583799445071705, \"value\": 0.0}, \"2\": {\"effect\": -0.00915834356240506, \"value\": 0.0}, \"3\": {\"effect\": 0.0, \"value\": 0.0}, \"4\": {\"effect\": 1.692238101103083e-05, \"value\": 0.0}, \"5\": {\"effect\": -0.003396567444916593, \"value\": 0.0}, \"6\": {\"effect\": -0.004656171039518986, \"value\": 0.0}, \"7\": {\"effect\": -0.0060189532404484325, \"value\": 0.0}, \"8\": {\"effect\": 0.0, \"value\": 0.0}, \"9\": {\"effect\": -7.629509237644383e-05, \"value\": 0.0}, \"10\": {\"effect\": 0.0, \"value\": 2.0}, \"11\": {\"effect\": 0.0, \"value\": 2.0}}}, {\"outValue\": 0.04364237432054768, \"simIndex\": 86.0, \"features\": {\"0\": {\"effect\": -0.11355433956812594, \"value\": 0.0}, \"1\": {\"effect\": -0.0025092297803085833, \"value\": 0.0}, \"2\": {\"effect\": -0.00973096095181819, \"value\": 0.0}, \"3\": {\"effect\": 0.0, \"value\": 0.0}, \"4\": {\"effect\": 7.247867048754131e-06, \"value\": 0.0}, \"5\": {\"effect\": -0.0026537150431161644, \"value\": 0.0}, \"6\": {\"effect\": -0.004972140563271388, \"value\": 0.0}, \"7\": {\"effect\": -0.005820615493495523, \"value\": 0.0}, \"8\": {\"effect\": 0.0, \"value\": 0.0}, \"9\": {\"effect\": -0.00041754654603798347, \"value\": 0.0}, \"10\": {\"effect\": 0.0, \"value\": 2.0}, \"11\": {\"effect\": -0.015052829321305139, \"value\": 1.0}}}, {\"outValue\": 0.8970448067357412, \"simIndex\": 16.0, \"features\": {\"0\": {\"effect\": 0.5112896581520426, \"value\": 1.0}, \"1\": {\"effect\": -0.0020821171025614538, \"value\": 0.0}, \"2\": {\"effect\": -0.005353149819832814, \"value\": 0.0}, \"3\": {\"effect\": 0.0, \"value\": 0.0}, \"4\": {\"effect\": 0.0013856171043696852, \"value\": 0.0}, \"5\": {\"effect\": -0.0009076968039964939, \"value\": 0.0}, \"6\": {\"effect\": 0.072863403496578, \"value\": 1.0}, \"7\": {\"effect\": -0.0036624835868844796, \"value\": 0.0}, \"8\": {\"effect\": 0.0, \"value\": 0.0}, \"9\": {\"effect\": 0.0025575713196823724, \"value\": 0.0}, \"10\": {\"effect\": 0.12260750025536593, \"value\": 1.0}, \"11\": {\"effect\": 0.0, \"value\": 2.0}}}, {\"outValue\": 0.060793424798369966, \"simIndex\": 46.0, \"features\": {\"0\": {\"effect\": -0.11180529097944622, \"value\": 0.0}, \"1\": {\"effect\": -0.0024583799445071705, \"value\": 0.0}, \"2\": {\"effect\": -0.00915834356240506, \"value\": 0.0}, \"3\": {\"effect\": 0.0, \"value\": 0.0}, \"4\": {\"effect\": 1.692238101103083e-05, \"value\": 0.0}, \"5\": {\"effect\": -0.003396567444916593, \"value\": 0.0}, \"6\": {\"effect\": -0.004656171039518986, \"value\": 0.0}, \"7\": {\"effect\": -0.0060189532404484325, \"value\": 0.0}, \"8\": {\"effect\": 0.0, \"value\": 0.0}, \"9\": {\"effect\": -7.629509237644383e-05, \"value\": 0.0}, \"10\": {\"effect\": 0.0, \"value\": 2.0}, \"11\": {\"effect\": 0.0, \"value\": 2.0}}}, {\"outValue\": 0.15064648209494247, \"simIndex\": 90.0, \"features\": {\"0\": {\"effect\": -0.11039308376269022, \"value\": 0.0}, \"1\": {\"effect\": -0.002297508706542571, \"value\": 0.0}, \"2\": {\"effect\": -0.008495825775067868, \"value\": 0.0}, \"3\": {\"effect\": 0.0, \"value\": 0.0}, \"4\": {\"effect\": 0.0014250151864666147, \"value\": 0.0}, \"5\": {\"effect\": -0.003204759146161692, \"value\": 0.0}, \"6\": {\"effect\": -0.004869969345622574, \"value\": 0.0}, \"7\": {\"effect\": -0.007888529376986917, \"value\": 0.0}, \"8\": {\"effect\": 0.08635018004303001, \"value\": 1.0}, \"9\": {\"effect\": 0.0016744592575398537, \"value\": 0.0}, \"10\": {\"effect\": 0.0, \"value\": 2.0}, \"11\": {\"effect\": 0.0, \"value\": 2.0}}}, {\"outValue\": 0.7643518923798325, \"simIndex\": 11.0, \"features\": {\"0\": {\"effect\": 0.5888595422559711, \"value\": 1.0}, \"1\": {\"effect\": -0.0015669353817749365, \"value\": 0.0}, \"2\": {\"effect\": -0.00886235502727123, \"value\": 0.0}, \"3\": {\"effect\": 0.0, \"value\": 0.0}, \"4\": {\"effect\": 0.0017183286762589567, \"value\": 0.0}, \"5\": {\"effect\": -0.0023759141068082634, \"value\": 0.0}, \"6\": {\"effect\": -0.0047120924494087335, \"value\": 0.0}, \"7\": {\"effect\": -0.004658934294260786, \"value\": 0.0}, \"8\": {\"effect\": 0.0, \"value\": 0.0}, \"9\": {\"effect\": -0.002396251013851436, \"value\": 0.0}, \"10\": {\"effect\": 0.0, \"value\": 2.0}, \"11\": {\"effect\": 0.0, \"value\": 2.0}}}, {\"outValue\": 0.060793424798369966, \"simIndex\": 64.0, \"features\": {\"0\": {\"effect\": -0.11180529097944622, \"value\": 0.0}, \"1\": {\"effect\": -0.0024583799445071705, \"value\": 0.0}, \"2\": {\"effect\": -0.00915834356240506, \"value\": 0.0}, \"3\": {\"effect\": 0.0, \"value\": 0.0}, \"4\": {\"effect\": 1.692238101103083e-05, \"value\": 0.0}, \"5\": {\"effect\": -0.003396567444916593, \"value\": 0.0}, \"6\": {\"effect\": -0.004656171039518986, \"value\": 0.0}, \"7\": {\"effect\": -0.0060189532404484325, \"value\": 0.0}, \"8\": {\"effect\": 0.0, \"value\": 0.0}, \"9\": {\"effect\": -7.629509237644383e-05, \"value\": 0.0}, \"10\": {\"effect\": 0.0, \"value\": 2.0}, \"11\": {\"effect\": 0.0, \"value\": 2.0}}}, {\"outValue\": 0.060793424798369966, \"simIndex\": 45.0, \"features\": {\"0\": {\"effect\": -0.11180529097944622, \"value\": 0.0}, \"1\": {\"effect\": -0.0024583799445071705, \"value\": 0.0}, \"2\": {\"effect\": -0.00915834356240506, \"value\": 0.0}, \"3\": {\"effect\": 0.0, \"value\": 0.0}, \"4\": {\"effect\": 1.692238101103083e-05, \"value\": 0.0}, \"5\": {\"effect\": -0.003396567444916593, \"value\": 0.0}, \"6\": {\"effect\": -0.004656171039518986, \"value\": 0.0}, \"7\": {\"effect\": -0.0060189532404484325, \"value\": 0.0}, \"8\": {\"effect\": 0.0, \"value\": 0.0}, \"9\": {\"effect\": -7.629509237644383e-05, \"value\": 0.0}, \"10\": {\"effect\": 0.0, \"value\": 2.0}, \"11\": {\"effect\": 0.0, \"value\": 2.0}}}, {\"outValue\": 0.060793424798369966, \"simIndex\": 65.0, \"features\": {\"0\": {\"effect\": -0.11180529097944622, \"value\": 0.0}, \"1\": {\"effect\": -0.0024583799445071705, \"value\": 0.0}, \"2\": {\"effect\": -0.00915834356240506, \"value\": 0.0}, \"3\": {\"effect\": 0.0, \"value\": 0.0}, \"4\": {\"effect\": 1.692238101103083e-05, \"value\": 0.0}, \"5\": {\"effect\": -0.003396567444916593, \"value\": 0.0}, \"6\": {\"effect\": -0.004656171039518986, \"value\": 0.0}, \"7\": {\"effect\": -0.0060189532404484325, \"value\": 0.0}, \"8\": {\"effect\": 0.0, \"value\": 0.0}, \"9\": {\"effect\": -7.629509237644383e-05, \"value\": 0.0}, \"10\": {\"effect\": 0.0, \"value\": 2.0}, \"11\": {\"effect\": 0.0, \"value\": 2.0}}}, {\"outValue\": 0.060793424798369966, \"simIndex\": 44.0, \"features\": {\"0\": {\"effect\": -0.11180529097944622, \"value\": 0.0}, \"1\": {\"effect\": -0.0024583799445071705, \"value\": 0.0}, \"2\": {\"effect\": -0.00915834356240506, \"value\": 0.0}, \"3\": {\"effect\": 0.0, \"value\": 0.0}, \"4\": {\"effect\": 1.692238101103083e-05, \"value\": 0.0}, \"5\": {\"effect\": -0.003396567444916593, \"value\": 0.0}, \"6\": {\"effect\": -0.004656171039518986, \"value\": 0.0}, \"7\": {\"effect\": -0.0060189532404484325, \"value\": 0.0}, \"8\": {\"effect\": 0.0, \"value\": 0.0}, \"9\": {\"effect\": -7.629509237644383e-05, \"value\": 0.0}, \"10\": {\"effect\": 0.0, \"value\": 2.0}, \"11\": {\"effect\": 0.0, \"value\": 2.0}}}, {\"outValue\": 0.060793424798369966, \"simIndex\": 66.0, \"features\": {\"0\": {\"effect\": -0.11180529097944622, \"value\": 0.0}, \"1\": {\"effect\": -0.0024583799445071705, \"value\": 0.0}, \"2\": {\"effect\": -0.00915834356240506, \"value\": 0.0}, \"3\": {\"effect\": 0.0, \"value\": 0.0}, \"4\": {\"effect\": 1.692238101103083e-05, \"value\": 0.0}, \"5\": {\"effect\": -0.003396567444916593, \"value\": 0.0}, \"6\": {\"effect\": -0.004656171039518986, \"value\": 0.0}, \"7\": {\"effect\": -0.0060189532404484325, \"value\": 0.0}, \"8\": {\"effect\": 0.0, \"value\": 0.0}, \"9\": {\"effect\": -7.629509237644383e-05, \"value\": 0.0}, \"10\": {\"effect\": 0.0, \"value\": 2.0}, \"11\": {\"effect\": 0.0, \"value\": 2.0}}}, {\"outValue\": 0.19459444121285752, \"simIndex\": 91.0, \"features\": {\"0\": {\"effect\": -0.10754515505969924, \"value\": 0.0}, \"1\": {\"effect\": -0.0014816806218916241, \"value\": 0.0}, \"2\": {\"effect\": -0.009123313317758296, \"value\": 0.0}, \"3\": {\"effect\": 0.0, \"value\": 0.0}, \"4\": {\"effect\": 0.0018018282360993572, \"value\": 0.0}, \"5\": {\"effect\": -0.003590475191918324, \"value\": 0.0}, \"6\": {\"effect\": -0.005786916306548848, \"value\": 0.0}, \"7\": {\"effect\": 0.11961771932236431, \"value\": 1.0}, \"8\": {\"effect\": 0.0, \"value\": 0.0}, \"9\": {\"effect\": 0.0023559304312323337, \"value\": 0.0}, \"10\": {\"effect\": 0.0, \"value\": 2.0}, \"11\": {\"effect\": 0.0, \"value\": 2.0}}}, {\"outValue\": 0.1299972342297595, \"simIndex\": 23.0, \"features\": {\"0\": {\"effect\": -0.11423140518647258, \"value\": 0.0}, \"1\": {\"effect\": -0.0027087868230965886, \"value\": 0.0}, \"2\": {\"effect\": -0.00936953977100264, \"value\": 0.0}, \"3\": {\"effect\": 0.0, \"value\": 0.0}, \"4\": {\"effect\": 0.00030693287046785686, \"value\": 0.0}, \"5\": {\"effect\": -0.002413914342157604, \"value\": 0.0}, \"6\": {\"effect\": 0.06619602703856223, \"value\": 1.0}, \"7\": {\"effect\": -0.006919954687722711, \"value\": 0.0}, \"8\": {\"effect\": 0.0, \"value\": 0.0}, \"9\": {\"effect\": 0.0007913714102036895, \"value\": 0.0}, \"10\": {\"effect\": 0.0, \"value\": 2.0}, \"11\": {\"effect\": 0.0, \"value\": 2.0}}}, {\"outValue\": 0.060793424798369966, \"simIndex\": 43.0, \"features\": {\"0\": {\"effect\": -0.11180529097944622, \"value\": 0.0}, \"1\": {\"effect\": -0.0024583799445071705, \"value\": 0.0}, \"2\": {\"effect\": -0.00915834356240506, \"value\": 0.0}, \"3\": {\"effect\": 0.0, \"value\": 0.0}, \"4\": {\"effect\": 1.692238101103083e-05, \"value\": 0.0}, \"5\": {\"effect\": -0.003396567444916593, \"value\": 0.0}, \"6\": {\"effect\": -0.004656171039518986, \"value\": 0.0}, \"7\": {\"effect\": -0.0060189532404484325, \"value\": 0.0}, \"8\": {\"effect\": 0.0, \"value\": 0.0}, \"9\": {\"effect\": -7.629509237644383e-05, \"value\": 0.0}, \"10\": {\"effect\": 0.0, \"value\": 2.0}, \"11\": {\"effect\": 0.0, \"value\": 2.0}}}, {\"outValue\": 0.060793424798369966, \"simIndex\": 67.0, \"features\": {\"0\": {\"effect\": -0.11180529097944622, \"value\": 0.0}, \"1\": {\"effect\": -0.0024583799445071705, \"value\": 0.0}, \"2\": {\"effect\": -0.00915834356240506, \"value\": 0.0}, \"3\": {\"effect\": 0.0, \"value\": 0.0}, \"4\": {\"effect\": 1.692238101103083e-05, \"value\": 0.0}, \"5\": {\"effect\": -0.003396567444916593, \"value\": 0.0}, \"6\": {\"effect\": -0.004656171039518986, \"value\": 0.0}, \"7\": {\"effect\": -0.0060189532404484325, \"value\": 0.0}, \"8\": {\"effect\": 0.0, \"value\": 0.0}, \"9\": {\"effect\": -7.629509237644383e-05, \"value\": 0.0}, \"10\": {\"effect\": 0.0, \"value\": 2.0}, \"11\": {\"effect\": 0.0, \"value\": 2.0}}}, {\"outValue\": 0.04364237432054768, \"simIndex\": 89.0, \"features\": {\"0\": {\"effect\": -0.11355433956812594, \"value\": 0.0}, \"1\": {\"effect\": -0.0025092297803085833, \"value\": 0.0}, \"2\": {\"effect\": -0.00973096095181819, \"value\": 0.0}, \"3\": {\"effect\": 0.0, \"value\": 0.0}, \"4\": {\"effect\": 7.247867048754131e-06, \"value\": 0.0}, \"5\": {\"effect\": -0.0026537150431161644, \"value\": 0.0}, \"6\": {\"effect\": -0.004972140563271388, \"value\": 0.0}, \"7\": {\"effect\": -0.005820615493495523, \"value\": 0.0}, \"8\": {\"effect\": 0.0, \"value\": 0.0}, \"9\": {\"effect\": -0.00041754654603798347, \"value\": 0.0}, \"10\": {\"effect\": 0.0, \"value\": 2.0}, \"11\": {\"effect\": -0.015052829321305139, \"value\": 1.0}}}, {\"outValue\": 0.17564116426373308, \"simIndex\": 95.0, \"features\": {\"0\": {\"effect\": -0.11258832836781328, \"value\": 0.0}, \"1\": {\"effect\": -0.0016737827673626998, \"value\": 0.0}, \"2\": {\"effect\": 0.10378611498116991, \"value\": 1.0}, \"3\": {\"effect\": 0.0, \"value\": 0.0}, \"4\": {\"effect\": -2.9592591456779546e-05, \"value\": 0.0}, \"5\": {\"effect\": -0.002600236962480936, \"value\": 0.0}, \"6\": {\"effect\": -0.005060054821817789, \"value\": 0.0}, \"7\": {\"effect\": -0.006098004672887526, \"value\": 0.0}, \"8\": {\"effect\": 0.0, \"value\": 0.0}, \"9\": {\"effect\": 0.0015585457454043439, \"value\": 0.0}, \"10\": {\"effect\": 0.0, \"value\": 2.0}, \"11\": {\"effect\": 0.0, \"value\": 2.0}}}, {\"outValue\": 0.7643518923798325, \"simIndex\": 8.0, \"features\": {\"0\": {\"effect\": 0.5888595422559711, \"value\": 1.0}, \"1\": {\"effect\": -0.0015669353817749365, \"value\": 0.0}, \"2\": {\"effect\": -0.00886235502727123, \"value\": 0.0}, \"3\": {\"effect\": 0.0, \"value\": 0.0}, \"4\": {\"effect\": 0.0017183286762589567, \"value\": 0.0}, \"5\": {\"effect\": -0.0023759141068082634, \"value\": 0.0}, \"6\": {\"effect\": -0.0047120924494087335, \"value\": 0.0}, \"7\": {\"effect\": -0.004658934294260786, \"value\": 0.0}, \"8\": {\"effect\": 0.0, \"value\": 0.0}, \"9\": {\"effect\": -0.002396251013851436, \"value\": 0.0}, \"10\": {\"effect\": 0.0, \"value\": 2.0}, \"11\": {\"effect\": 0.0, \"value\": 2.0}}}, {\"outValue\": 0.060793424798369966, \"simIndex\": 42.0, \"features\": {\"0\": {\"effect\": -0.11180529097944622, \"value\": 0.0}, \"1\": {\"effect\": -0.0024583799445071705, \"value\": 0.0}, \"2\": {\"effect\": -0.00915834356240506, \"value\": 0.0}, \"3\": {\"effect\": 0.0, \"value\": 0.0}, \"4\": {\"effect\": 1.692238101103083e-05, \"value\": 0.0}, \"5\": {\"effect\": -0.003396567444916593, \"value\": 0.0}, \"6\": {\"effect\": -0.004656171039518986, \"value\": 0.0}, \"7\": {\"effect\": -0.0060189532404484325, \"value\": 0.0}, \"8\": {\"effect\": 0.0, \"value\": 0.0}, \"9\": {\"effect\": -7.629509237644383e-05, \"value\": 0.0}, \"10\": {\"effect\": 0.0, \"value\": 2.0}, \"11\": {\"effect\": 0.0, \"value\": 2.0}}}, {\"outValue\": 0.7643518923798325, \"simIndex\": 12.0, \"features\": {\"0\": {\"effect\": 0.5888595422559711, \"value\": 1.0}, \"1\": {\"effect\": -0.0015669353817749365, \"value\": 0.0}, \"2\": {\"effect\": -0.00886235502727123, \"value\": 0.0}, \"3\": {\"effect\": 0.0, \"value\": 0.0}, \"4\": {\"effect\": 0.0017183286762589567, \"value\": 0.0}, \"5\": {\"effect\": -0.0023759141068082634, \"value\": 0.0}, \"6\": {\"effect\": -0.0047120924494087335, \"value\": 0.0}, \"7\": {\"effect\": -0.004658934294260786, \"value\": 0.0}, \"8\": {\"effect\": 0.0, \"value\": 0.0}, \"9\": {\"effect\": -0.002396251013851436, \"value\": 0.0}, \"10\": {\"effect\": 0.0, \"value\": 2.0}, \"11\": {\"effect\": 0.0, \"value\": 2.0}}}, {\"outValue\": 0.060793424798369966, \"simIndex\": 68.0, \"features\": {\"0\": {\"effect\": -0.11180529097944622, \"value\": 0.0}, \"1\": {\"effect\": -0.0024583799445071705, \"value\": 0.0}, \"2\": {\"effect\": -0.00915834356240506, \"value\": 0.0}, \"3\": {\"effect\": 0.0, \"value\": 0.0}, \"4\": {\"effect\": 1.692238101103083e-05, \"value\": 0.0}, \"5\": {\"effect\": -0.003396567444916593, \"value\": 0.0}, \"6\": {\"effect\": -0.004656171039518986, \"value\": 0.0}, \"7\": {\"effect\": -0.0060189532404484325, \"value\": 0.0}, \"8\": {\"effect\": 0.0, \"value\": 0.0}, \"9\": {\"effect\": -7.629509237644383e-05, \"value\": 0.0}, \"10\": {\"effect\": 0.0, \"value\": 2.0}, \"11\": {\"effect\": 0.0, \"value\": 2.0}}}, {\"outValue\": 0.060793424798369966, \"simIndex\": 41.0, \"features\": {\"0\": {\"effect\": -0.11180529097944622, \"value\": 0.0}, \"1\": {\"effect\": -0.0024583799445071705, \"value\": 0.0}, \"2\": {\"effect\": -0.00915834356240506, \"value\": 0.0}, \"3\": {\"effect\": 0.0, \"value\": 0.0}, \"4\": {\"effect\": 1.692238101103083e-05, \"value\": 0.0}, \"5\": {\"effect\": -0.003396567444916593, \"value\": 0.0}, \"6\": {\"effect\": -0.004656171039518986, \"value\": 0.0}, \"7\": {\"effect\": -0.0060189532404484325, \"value\": 0.0}, \"8\": {\"effect\": 0.0, \"value\": 0.0}, \"9\": {\"effect\": -7.629509237644383e-05, \"value\": 0.0}, \"10\": {\"effect\": 0.0, \"value\": 2.0}, \"11\": {\"effect\": 0.0, \"value\": 2.0}}}, {\"outValue\": 0.060793424798369966, \"simIndex\": 69.0, \"features\": {\"0\": {\"effect\": -0.11180529097944622, \"value\": 0.0}, \"1\": {\"effect\": -0.0024583799445071705, \"value\": 0.0}, \"2\": {\"effect\": -0.00915834356240506, \"value\": 0.0}, \"3\": {\"effect\": 0.0, \"value\": 0.0}, \"4\": {\"effect\": 1.692238101103083e-05, \"value\": 0.0}, \"5\": {\"effect\": -0.003396567444916593, \"value\": 0.0}, \"6\": {\"effect\": -0.004656171039518986, \"value\": 0.0}, \"7\": {\"effect\": -0.0060189532404484325, \"value\": 0.0}, \"8\": {\"effect\": 0.0, \"value\": 0.0}, \"9\": {\"effect\": -7.629509237644383e-05, \"value\": 0.0}, \"10\": {\"effect\": 0.0, \"value\": 2.0}, \"11\": {\"effect\": 0.0, \"value\": 2.0}}}, {\"outValue\": 0.060793424798369966, \"simIndex\": 40.0, \"features\": {\"0\": {\"effect\": -0.11180529097944622, \"value\": 0.0}, \"1\": {\"effect\": -0.0024583799445071705, \"value\": 0.0}, \"2\": {\"effect\": -0.00915834356240506, \"value\": 0.0}, \"3\": {\"effect\": 0.0, \"value\": 0.0}, \"4\": {\"effect\": 1.692238101103083e-05, \"value\": 0.0}, \"5\": {\"effect\": -0.003396567444916593, \"value\": 0.0}, \"6\": {\"effect\": -0.004656171039518986, \"value\": 0.0}, \"7\": {\"effect\": -0.0060189532404484325, \"value\": 0.0}, \"8\": {\"effect\": 0.0, \"value\": 0.0}, \"9\": {\"effect\": -7.629509237644383e-05, \"value\": 0.0}, \"10\": {\"effect\": 0.0, \"value\": 2.0}, \"11\": {\"effect\": 0.0, \"value\": 2.0}}}, {\"outValue\": 0.23723499923117097, \"simIndex\": 97.0, \"features\": {\"0\": {\"effect\": -0.10847815403603066, \"value\": 0.0}, \"1\": {\"effect\": -0.0018656090580042375, \"value\": 0.0}, \"2\": {\"effect\": 0.10887516066869517, \"value\": 1.0}, \"3\": {\"effect\": 0.0, \"value\": 0.0}, \"4\": {\"effect\": -0.019080850423449067, \"value\": 1.0}, \"5\": {\"effect\": -0.0006428764253947027, \"value\": 0.0}, \"6\": {\"effect\": 0.0601879756360756, \"value\": 1.0}, \"7\": {\"effect\": -0.0043568528750497805, \"value\": 0.0}, \"8\": {\"effect\": 0.0, \"value\": 0.0}, \"9\": {\"effect\": 0.004249702023350815, \"value\": 0.0}, \"10\": {\"effect\": 0.0, \"value\": 2.0}, \"11\": {\"effect\": 0.0, \"value\": 2.0}}}, {\"outValue\": 0.1156398956956041, \"simIndex\": 19.0, \"features\": {\"0\": {\"effect\": -0.11525054885119151, \"value\": 0.0}, \"1\": {\"effect\": -0.0010306327364163204, \"value\": 0.0}, \"2\": {\"effect\": -0.01051697000225358, \"value\": 0.0}, \"3\": {\"effect\": 0.0, \"value\": 0.0}, \"4\": {\"effect\": -0.017687377849128195, \"value\": 1.0}, \"5\": {\"effect\": -0.0007135123708719923, \"value\": 0.0}, \"6\": {\"effect\": 0.07032774587648576, \"value\": 1.0}, \"7\": {\"effect\": -0.0026103750408531384, \"value\": 0.0}, \"8\": {\"effect\": 0.0, \"value\": 0.0}, \"9\": {\"effect\": -0.001012440223267505, \"value\": 0.0}, \"10\": {\"effect\": 0.0, \"value\": 2.0}, \"11\": {\"effect\": -0.004212496827877263, \"value\": 1.0}}}, {\"outValue\": 0.060793424798369966, \"simIndex\": 70.0, \"features\": {\"0\": {\"effect\": -0.11180529097944622, \"value\": 0.0}, \"1\": {\"effect\": -0.0024583799445071705, \"value\": 0.0}, \"2\": {\"effect\": -0.00915834356240506, \"value\": 0.0}, \"3\": {\"effect\": 0.0, \"value\": 0.0}, \"4\": {\"effect\": 1.692238101103083e-05, \"value\": 0.0}, \"5\": {\"effect\": -0.003396567444916593, \"value\": 0.0}, \"6\": {\"effect\": -0.004656171039518986, \"value\": 0.0}, \"7\": {\"effect\": -0.0060189532404484325, \"value\": 0.0}, \"8\": {\"effect\": 0.0, \"value\": 0.0}, \"9\": {\"effect\": -7.629509237644383e-05, \"value\": 0.0}, \"10\": {\"effect\": 0.0, \"value\": 2.0}, \"11\": {\"effect\": 0.0, \"value\": 2.0}}}, {\"outValue\": 0.2626906503520272, \"simIndex\": 98.0, \"features\": {\"0\": {\"effect\": -0.10911369381829998, \"value\": 0.0}, \"1\": {\"effect\": -0.0023862379467716258, \"value\": 0.0}, \"2\": {\"effect\": 0.110379739862391, \"value\": 1.0}, \"3\": {\"effect\": 0.0, \"value\": 0.0}, \"4\": {\"effect\": 0.0005325209985412166, \"value\": 0.0}, \"5\": {\"effect\": -0.0026375168292802897, \"value\": 0.0}, \"6\": {\"effect\": 0.07259696434608202, \"value\": 1.0}, \"7\": {\"effect\": -0.0077065506962110016, \"value\": 0.0}, \"8\": {\"effect\": 0.0, \"value\": 0.0}, \"9\": {\"effect\": 0.002678920714598035, \"value\": 0.0}, \"10\": {\"effect\": 0.0, \"value\": 2.0}, \"11\": {\"effect\": 0.0, \"value\": 2.0}}}, {\"outValue\": 0.060793424798369966, \"simIndex\": 39.0, \"features\": {\"0\": {\"effect\": -0.11180529097944622, \"value\": 0.0}, \"1\": {\"effect\": -0.0024583799445071705, \"value\": 0.0}, \"2\": {\"effect\": -0.00915834356240506, \"value\": 0.0}, \"3\": {\"effect\": 0.0, \"value\": 0.0}, \"4\": {\"effect\": 1.692238101103083e-05, \"value\": 0.0}, \"5\": {\"effect\": -0.003396567444916593, \"value\": 0.0}, \"6\": {\"effect\": -0.004656171039518986, \"value\": 0.0}, \"7\": {\"effect\": -0.0060189532404484325, \"value\": 0.0}, \"8\": {\"effect\": 0.0, \"value\": 0.0}, \"9\": {\"effect\": -7.629509237644383e-05, \"value\": 0.0}, \"10\": {\"effect\": 0.0, \"value\": 2.0}, \"11\": {\"effect\": 0.0, \"value\": 2.0}}}, {\"outValue\": 0.3045504450995574, \"simIndex\": 92.0, \"features\": {\"0\": {\"effect\": -0.1056091499062499, \"value\": 0.0}, \"1\": {\"effect\": -0.001737158784761668, \"value\": 0.0}, \"2\": {\"effect\": 0.10206132233878684, \"value\": 1.0}, \"3\": {\"effect\": 0.0, \"value\": 0.0}, \"4\": {\"effect\": 0.0010468054199687174, \"value\": 0.0}, \"5\": {\"effect\": -0.0028380908644931174, \"value\": 0.0}, \"6\": {\"effect\": -0.007261792334454127, \"value\": 0.0}, \"7\": {\"effect\": 0.11777884500289534, \"value\": 1.0}, \"8\": {\"effect\": 0.0, \"value\": 0.0}, \"9\": {\"effect\": 0.002763160506887477, \"value\": 0.0}, \"10\": {\"effect\": 0.0, \"value\": 2.0}, \"11\": {\"effect\": 0.0, \"value\": 2.0}}}, {\"outValue\": 0.060793424798369966, \"simIndex\": 71.0, \"features\": {\"0\": {\"effect\": -0.11180529097944622, \"value\": 0.0}, \"1\": {\"effect\": -0.0024583799445071705, \"value\": 0.0}, \"2\": {\"effect\": -0.00915834356240506, \"value\": 0.0}, \"3\": {\"effect\": 0.0, \"value\": 0.0}, \"4\": {\"effect\": 1.692238101103083e-05, \"value\": 0.0}, \"5\": {\"effect\": -0.003396567444916593, \"value\": 0.0}, \"6\": {\"effect\": -0.004656171039518986, \"value\": 0.0}, \"7\": {\"effect\": -0.0060189532404484325, \"value\": 0.0}, \"8\": {\"effect\": 0.0, \"value\": 0.0}, \"9\": {\"effect\": -7.629509237644383e-05, \"value\": 0.0}, \"10\": {\"effect\": 0.0, \"value\": 2.0}, \"11\": {\"effect\": 0.0, \"value\": 2.0}}}, {\"outValue\": 0.060793424798369966, \"simIndex\": 38.0, \"features\": {\"0\": {\"effect\": -0.11180529097944622, \"value\": 0.0}, \"1\": {\"effect\": -0.0024583799445071705, \"value\": 0.0}, \"2\": {\"effect\": -0.00915834356240506, \"value\": 0.0}, \"3\": {\"effect\": 0.0, \"value\": 0.0}, \"4\": {\"effect\": 1.692238101103083e-05, \"value\": 0.0}, \"5\": {\"effect\": -0.003396567444916593, \"value\": 0.0}, \"6\": {\"effect\": -0.004656171039518986, \"value\": 0.0}, \"7\": {\"effect\": -0.0060189532404484325, \"value\": 0.0}, \"8\": {\"effect\": 0.0, \"value\": 0.0}, \"9\": {\"effect\": -7.629509237644383e-05, \"value\": 0.0}, \"10\": {\"effect\": 0.0, \"value\": 2.0}, \"11\": {\"effect\": 0.0, \"value\": 2.0}}}, {\"outValue\": 0.060793424798369966, \"simIndex\": 72.0, \"features\": {\"0\": {\"effect\": -0.11180529097944622, \"value\": 0.0}, \"1\": {\"effect\": -0.0024583799445071705, \"value\": 0.0}, \"2\": {\"effect\": -0.00915834356240506, \"value\": 0.0}, \"3\": {\"effect\": 0.0, \"value\": 0.0}, \"4\": {\"effect\": 1.692238101103083e-05, \"value\": 0.0}, \"5\": {\"effect\": -0.003396567444916593, \"value\": 0.0}, \"6\": {\"effect\": -0.004656171039518986, \"value\": 0.0}, \"7\": {\"effect\": -0.0060189532404484325, \"value\": 0.0}, \"8\": {\"effect\": 0.0, \"value\": 0.0}, \"9\": {\"effect\": -7.629509237644383e-05, \"value\": 0.0}, \"10\": {\"effect\": 0.0, \"value\": 2.0}, \"11\": {\"effect\": 0.0, \"value\": 2.0}}}, {\"outValue\": 0.8742422292208278, \"simIndex\": 15.0, \"features\": {\"0\": {\"effect\": 0.6044949647051163, \"value\": 1.0}, \"1\": {\"effect\": -0.0022636258734848314, \"value\": 0.0}, \"2\": {\"effect\": -0.0062017968061335305, \"value\": 0.0}, \"3\": {\"effect\": 0.0, \"value\": 0.0}, \"4\": {\"effect\": 0.001123621707731004, \"value\": 0.0}, \"5\": {\"effect\": -0.001308501305048948, \"value\": 0.0}, \"6\": {\"effect\": 0.08420164228484428, \"value\": 1.0}, \"7\": {\"effect\": -0.00402768928794861, \"value\": 0.0}, \"8\": {\"effect\": 0.0, \"value\": 0.0}, \"9\": {\"effect\": -0.00012288992522568876, \"value\": 0.0}, \"10\": {\"effect\": 0.0, \"value\": 2.0}, \"11\": {\"effect\": 0.0, \"value\": 2.0}}}, {\"outValue\": 0.060793424798369966, \"simIndex\": 37.0, \"features\": {\"0\": {\"effect\": -0.11180529097944622, \"value\": 0.0}, \"1\": {\"effect\": -0.0024583799445071705, \"value\": 0.0}, \"2\": {\"effect\": -0.00915834356240506, \"value\": 0.0}, \"3\": {\"effect\": 0.0, \"value\": 0.0}, \"4\": {\"effect\": 1.692238101103083e-05, \"value\": 0.0}, \"5\": {\"effect\": -0.003396567444916593, \"value\": 0.0}, \"6\": {\"effect\": -0.004656171039518986, \"value\": 0.0}, \"7\": {\"effect\": -0.0060189532404484325, \"value\": 0.0}, \"8\": {\"effect\": 0.0, \"value\": 0.0}, \"9\": {\"effect\": -7.629509237644383e-05, \"value\": 0.0}, \"10\": {\"effect\": 0.0, \"value\": 2.0}, \"11\": {\"effect\": 0.0, \"value\": 2.0}}}, {\"outValue\": 0.060793424798369966, \"simIndex\": 73.0, \"features\": {\"0\": {\"effect\": -0.11180529097944622, \"value\": 0.0}, \"1\": {\"effect\": -0.0024583799445071705, \"value\": 0.0}, \"2\": {\"effect\": -0.00915834356240506, \"value\": 0.0}, \"3\": {\"effect\": 0.0, \"value\": 0.0}, \"4\": {\"effect\": 1.692238101103083e-05, \"value\": 0.0}, \"5\": {\"effect\": -0.003396567444916593, \"value\": 0.0}, \"6\": {\"effect\": -0.004656171039518986, \"value\": 0.0}, \"7\": {\"effect\": -0.0060189532404484325, \"value\": 0.0}, \"8\": {\"effect\": 0.0, \"value\": 0.0}, \"9\": {\"effect\": -7.629509237644383e-05, \"value\": 0.0}, \"10\": {\"effect\": 0.0, \"value\": 2.0}, \"11\": {\"effect\": 0.0, \"value\": 2.0}}}, {\"outValue\": 0.060793424798369966, \"simIndex\": 36.0, \"features\": {\"0\": {\"effect\": -0.11180529097944622, \"value\": 0.0}, \"1\": {\"effect\": -0.0024583799445071705, \"value\": 0.0}, \"2\": {\"effect\": -0.00915834356240506, \"value\": 0.0}, \"3\": {\"effect\": 0.0, \"value\": 0.0}, \"4\": {\"effect\": 1.692238101103083e-05, \"value\": 0.0}, \"5\": {\"effect\": -0.003396567444916593, \"value\": 0.0}, \"6\": {\"effect\": -0.004656171039518986, \"value\": 0.0}, \"7\": {\"effect\": -0.0060189532404484325, \"value\": 0.0}, \"8\": {\"effect\": 0.0, \"value\": 0.0}, \"9\": {\"effect\": -7.629509237644383e-05, \"value\": 0.0}, \"10\": {\"effect\": 0.0, \"value\": 2.0}, \"11\": {\"effect\": 0.0, \"value\": 2.0}}}, {\"outValue\": 0.060793424798369966, \"simIndex\": 74.0, \"features\": {\"0\": {\"effect\": -0.11180529097944622, \"value\": 0.0}, \"1\": {\"effect\": -0.0024583799445071705, \"value\": 0.0}, \"2\": {\"effect\": -0.00915834356240506, \"value\": 0.0}, \"3\": {\"effect\": 0.0, \"value\": 0.0}, \"4\": {\"effect\": 1.692238101103083e-05, \"value\": 0.0}, \"5\": {\"effect\": -0.003396567444916593, \"value\": 0.0}, \"6\": {\"effect\": -0.004656171039518986, \"value\": 0.0}, \"7\": {\"effect\": -0.0060189532404484325, \"value\": 0.0}, \"8\": {\"effect\": 0.0, \"value\": 0.0}, \"9\": {\"effect\": -7.629509237644383e-05, \"value\": 0.0}, \"10\": {\"effect\": 0.0, \"value\": 2.0}, \"11\": {\"effect\": 0.0, \"value\": 2.0}}}, {\"outValue\": 0.11561325813044374, \"simIndex\": 21.0, \"features\": {\"0\": {\"effect\": -0.11555445893055832, \"value\": 0.0}, \"1\": {\"effect\": -0.0037499443867329424, \"value\": 0.0}, \"2\": {\"effect\": -0.008143717072102517, \"value\": 0.0}, \"3\": {\"effect\": 0.0, \"value\": 0.0}, \"4\": {\"effect\": -1.2493685277788213e-05, \"value\": 0.0}, \"5\": {\"effect\": -0.0018938540597166834, \"value\": 0.0}, \"6\": {\"effect\": 0.057495931518356226, \"value\": 1.0}, \"7\": {\"effect\": -0.005281570238200001, \"value\": 0.0}, \"8\": {\"effect\": 0.0, \"value\": 0.0}, \"9\": {\"effect\": -0.005593138736302072, \"value\": 1.0}, \"10\": {\"effect\": 0.0, \"value\": 2.0}, \"11\": {\"effect\": 0.0, \"value\": 2.0}}}, {\"outValue\": 0.1299972342297595, \"simIndex\": 26.0, \"features\": {\"0\": {\"effect\": -0.11423140518647258, \"value\": 0.0}, \"1\": {\"effect\": -0.0027087868230965886, \"value\": 0.0}, \"2\": {\"effect\": -0.00936953977100264, \"value\": 0.0}, \"3\": {\"effect\": 0.0, \"value\": 0.0}, \"4\": {\"effect\": 0.00030693287046785686, \"value\": 0.0}, \"5\": {\"effect\": -0.002413914342157604, \"value\": 0.0}, \"6\": {\"effect\": 0.06619602703856223, \"value\": 1.0}, \"7\": {\"effect\": -0.006919954687722711, \"value\": 0.0}, \"8\": {\"effect\": 0.0, \"value\": 0.0}, \"9\": {\"effect\": 0.0007913714102036895, \"value\": 0.0}, \"10\": {\"effect\": 0.0, \"value\": 2.0}, \"11\": {\"effect\": 0.0, \"value\": 2.0}}}, {\"outValue\": 0.927810594697333, \"simIndex\": 1.0, \"features\": {\"0\": {\"effect\": 0.5171061952165311, \"value\": 1.0}, \"1\": {\"effect\": -0.0008836328911396851, \"value\": 0.0}, \"2\": {\"effect\": 0.08219213054818458, \"value\": 1.0}, \"3\": {\"effect\": 0.0, \"value\": 0.0}, \"4\": {\"effect\": 0.001980884556874396, \"value\": 0.0}, \"5\": {\"effect\": -0.0006745585621207861, \"value\": 0.0}, \"6\": {\"effect\": 0.051891146453649784, \"value\": 1.0}, \"7\": {\"effect\": 0.07701909036808152, \"value\": 1.0}, \"8\": {\"effect\": 0.0, \"value\": 0.0}, \"9\": {\"effect\": 0.0008328352862941868, \"value\": 0.0}, \"10\": {\"effect\": 0.0, \"value\": 2.0}, \"11\": {\"effect\": 0.0, \"value\": 2.0}}}, {\"outValue\": 0.1299972342297595, \"simIndex\": 22.0, \"features\": {\"0\": {\"effect\": -0.11423140518647258, \"value\": 0.0}, \"1\": {\"effect\": -0.0027087868230965886, \"value\": 0.0}, \"2\": {\"effect\": -0.00936953977100264, \"value\": 0.0}, \"3\": {\"effect\": 0.0, \"value\": 0.0}, \"4\": {\"effect\": 0.00030693287046785686, \"value\": 0.0}, \"5\": {\"effect\": -0.002413914342157604, \"value\": 0.0}, \"6\": {\"effect\": 0.06619602703856223, \"value\": 1.0}, \"7\": {\"effect\": -0.006919954687722711, \"value\": 0.0}, \"8\": {\"effect\": 0.0, \"value\": 0.0}, \"9\": {\"effect\": 0.0007913714102036895, \"value\": 0.0}, \"10\": {\"effect\": 0.0, \"value\": 2.0}, \"11\": {\"effect\": 0.0, \"value\": 2.0}}}, {\"outValue\": 0.1299972342297595, \"simIndex\": 27.0, \"features\": {\"0\": {\"effect\": -0.11423140518647258, \"value\": 0.0}, \"1\": {\"effect\": -0.0027087868230965886, \"value\": 0.0}, \"2\": {\"effect\": -0.00936953977100264, \"value\": 0.0}, \"3\": {\"effect\": 0.0, \"value\": 0.0}, \"4\": {\"effect\": 0.00030693287046785686, \"value\": 0.0}, \"5\": {\"effect\": -0.002413914342157604, \"value\": 0.0}, \"6\": {\"effect\": 0.06619602703856223, \"value\": 1.0}, \"7\": {\"effect\": -0.006919954687722711, \"value\": 0.0}, \"8\": {\"effect\": 0.0, \"value\": 0.0}, \"9\": {\"effect\": 0.0007913714102036895, \"value\": 0.0}, \"10\": {\"effect\": 0.0, \"value\": 2.0}, \"11\": {\"effect\": 0.0, \"value\": 2.0}}}, {\"outValue\": 0.21200055088410732, \"simIndex\": 17.0, \"features\": {\"0\": {\"effect\": -0.10970596409587455, \"value\": 0.0}, \"1\": {\"effect\": -0.0016041651595448906, \"value\": 0.0}, \"2\": {\"effect\": -0.014172689036273766, \"value\": 0.0}, \"3\": {\"effect\": 0.0, \"value\": 0.0}, \"4\": {\"effect\": -0.004035741876158688, \"value\": 0.0}, \"5\": {\"effect\": -0.00142243332322345, \"value\": 0.0}, \"6\": {\"effect\": -0.007655212547131856, \"value\": 0.0}, \"7\": {\"effect\": -0.007254917474777648, \"value\": 0.0}, \"8\": {\"effect\": 0.0, \"value\": 0.0}, \"9\": {\"effect\": 0.0051348806143440085, \"value\": 0.0}, \"10\": {\"effect\": 0.1639579672208503, \"value\": 1.0}, \"11\": {\"effect\": -0.00958767715907996, \"value\": 1.0}}}, {\"outValue\": 0.060793424798369966, \"simIndex\": 35.0, \"features\": {\"0\": {\"effect\": -0.11180529097944622, \"value\": 0.0}, \"1\": {\"effect\": -0.0024583799445071705, \"value\": 0.0}, \"2\": {\"effect\": -0.00915834356240506, \"value\": 0.0}, \"3\": {\"effect\": 0.0, \"value\": 0.0}, \"4\": {\"effect\": 1.692238101103083e-05, \"value\": 0.0}, \"5\": {\"effect\": -0.003396567444916593, \"value\": 0.0}, \"6\": {\"effect\": -0.004656171039518986, \"value\": 0.0}, \"7\": {\"effect\": -0.0060189532404484325, \"value\": 0.0}, \"8\": {\"effect\": 0.0, \"value\": 0.0}, \"9\": {\"effect\": -7.629509237644383e-05, \"value\": 0.0}, \"10\": {\"effect\": 0.0, \"value\": 2.0}, \"11\": {\"effect\": 0.0, \"value\": 2.0}}}, {\"outValue\": 0.060793424798369966, \"simIndex\": 75.0, \"features\": {\"0\": {\"effect\": -0.11180529097944622, \"value\": 0.0}, \"1\": {\"effect\": -0.0024583799445071705, \"value\": 0.0}, \"2\": {\"effect\": -0.00915834356240506, \"value\": 0.0}, \"3\": {\"effect\": 0.0, \"value\": 0.0}, \"4\": {\"effect\": 1.692238101103083e-05, \"value\": 0.0}, \"5\": {\"effect\": -0.003396567444916593, \"value\": 0.0}, \"6\": {\"effect\": -0.004656171039518986, \"value\": 0.0}, \"7\": {\"effect\": -0.0060189532404484325, \"value\": 0.0}, \"8\": {\"effect\": 0.0, \"value\": 0.0}, \"9\": {\"effect\": -7.629509237644383e-05, \"value\": 0.0}, \"10\": {\"effect\": 0.0, \"value\": 2.0}, \"11\": {\"effect\": 0.0, \"value\": 2.0}}}, {\"outValue\": 0.060793424798369966, \"simIndex\": 34.0, \"features\": {\"0\": {\"effect\": -0.11180529097944622, \"value\": 0.0}, \"1\": {\"effect\": -0.0024583799445071705, \"value\": 0.0}, \"2\": {\"effect\": -0.00915834356240506, \"value\": 0.0}, \"3\": {\"effect\": 0.0, \"value\": 0.0}, \"4\": {\"effect\": 1.692238101103083e-05, \"value\": 0.0}, \"5\": {\"effect\": -0.003396567444916593, \"value\": 0.0}, \"6\": {\"effect\": -0.004656171039518986, \"value\": 0.0}, \"7\": {\"effect\": -0.0060189532404484325, \"value\": 0.0}, \"8\": {\"effect\": 0.0, \"value\": 0.0}, \"9\": {\"effect\": -7.629509237644383e-05, \"value\": 0.0}, \"10\": {\"effect\": 0.0, \"value\": 2.0}, \"11\": {\"effect\": 0.0, \"value\": 2.0}}}, {\"outValue\": 0.060793424798369966, \"simIndex\": 76.0, \"features\": {\"0\": {\"effect\": -0.11180529097944622, \"value\": 0.0}, \"1\": {\"effect\": -0.0024583799445071705, \"value\": 0.0}, \"2\": {\"effect\": -0.00915834356240506, \"value\": 0.0}, \"3\": {\"effect\": 0.0, \"value\": 0.0}, \"4\": {\"effect\": 1.692238101103083e-05, \"value\": 0.0}, \"5\": {\"effect\": -0.003396567444916593, \"value\": 0.0}, \"6\": {\"effect\": -0.004656171039518986, \"value\": 0.0}, \"7\": {\"effect\": -0.0060189532404484325, \"value\": 0.0}, \"8\": {\"effect\": 0.0, \"value\": 0.0}, \"9\": {\"effect\": -7.629509237644383e-05, \"value\": 0.0}, \"10\": {\"effect\": 0.0, \"value\": 2.0}, \"11\": {\"effect\": 0.0, \"value\": 2.0}}}, {\"outValue\": 0.060793424798369966, \"simIndex\": 33.0, \"features\": {\"0\": {\"effect\": -0.11180529097944622, \"value\": 0.0}, \"1\": {\"effect\": -0.0024583799445071705, \"value\": 0.0}, \"2\": {\"effect\": -0.00915834356240506, \"value\": 0.0}, \"3\": {\"effect\": 0.0, \"value\": 0.0}, \"4\": {\"effect\": 1.692238101103083e-05, \"value\": 0.0}, \"5\": {\"effect\": -0.003396567444916593, \"value\": 0.0}, \"6\": {\"effect\": -0.004656171039518986, \"value\": 0.0}, \"7\": {\"effect\": -0.0060189532404484325, \"value\": 0.0}, \"8\": {\"effect\": 0.0, \"value\": 0.0}, \"9\": {\"effect\": -7.629509237644383e-05, \"value\": 0.0}, \"10\": {\"effect\": 0.0, \"value\": 2.0}, \"11\": {\"effect\": 0.0, \"value\": 2.0}}}, {\"outValue\": 0.060793424798369966, \"simIndex\": 77.0, \"features\": {\"0\": {\"effect\": -0.11180529097944622, \"value\": 0.0}, \"1\": {\"effect\": -0.0024583799445071705, \"value\": 0.0}, \"2\": {\"effect\": -0.00915834356240506, \"value\": 0.0}, \"3\": {\"effect\": 0.0, \"value\": 0.0}, \"4\": {\"effect\": 1.692238101103083e-05, \"value\": 0.0}, \"5\": {\"effect\": -0.003396567444916593, \"value\": 0.0}, \"6\": {\"effect\": -0.004656171039518986, \"value\": 0.0}, \"7\": {\"effect\": -0.0060189532404484325, \"value\": 0.0}, \"8\": {\"effect\": 0.0, \"value\": 0.0}, \"9\": {\"effect\": -7.629509237644383e-05, \"value\": 0.0}, \"10\": {\"effect\": 0.0, \"value\": 2.0}, \"11\": {\"effect\": 0.0, \"value\": 2.0}}}, {\"outValue\": 0.060793424798369966, \"simIndex\": 32.0, \"features\": {\"0\": {\"effect\": -0.11180529097944622, \"value\": 0.0}, \"1\": {\"effect\": -0.0024583799445071705, \"value\": 0.0}, \"2\": {\"effect\": -0.00915834356240506, \"value\": 0.0}, \"3\": {\"effect\": 0.0, \"value\": 0.0}, \"4\": {\"effect\": 1.692238101103083e-05, \"value\": 0.0}, \"5\": {\"effect\": -0.003396567444916593, \"value\": 0.0}, \"6\": {\"effect\": -0.004656171039518986, \"value\": 0.0}, \"7\": {\"effect\": -0.0060189532404484325, \"value\": 0.0}, \"8\": {\"effect\": 0.0, \"value\": 0.0}, \"9\": {\"effect\": -7.629509237644383e-05, \"value\": 0.0}, \"10\": {\"effect\": 0.0, \"value\": 2.0}, \"11\": {\"effect\": 0.0, \"value\": 2.0}}}, {\"outValue\": 0.060793424798369966, \"simIndex\": 78.0, \"features\": {\"0\": {\"effect\": -0.11180529097944622, \"value\": 0.0}, \"1\": {\"effect\": -0.0024583799445071705, \"value\": 0.0}, \"2\": {\"effect\": -0.00915834356240506, \"value\": 0.0}, \"3\": {\"effect\": 0.0, \"value\": 0.0}, \"4\": {\"effect\": 1.692238101103083e-05, \"value\": 0.0}, \"5\": {\"effect\": -0.003396567444916593, \"value\": 0.0}, \"6\": {\"effect\": -0.004656171039518986, \"value\": 0.0}, \"7\": {\"effect\": -0.0060189532404484325, \"value\": 0.0}, \"8\": {\"effect\": 0.0, \"value\": 0.0}, \"9\": {\"effect\": -7.629509237644383e-05, \"value\": 0.0}, \"10\": {\"effect\": 0.0, \"value\": 2.0}, \"11\": {\"effect\": 0.0, \"value\": 2.0}}}, {\"outValue\": 0.060793424798369966, \"simIndex\": 31.0, \"features\": {\"0\": {\"effect\": -0.11180529097944622, \"value\": 0.0}, \"1\": {\"effect\": -0.0024583799445071705, \"value\": 0.0}, \"2\": {\"effect\": -0.00915834356240506, \"value\": 0.0}, \"3\": {\"effect\": 0.0, \"value\": 0.0}, \"4\": {\"effect\": 1.692238101103083e-05, \"value\": 0.0}, \"5\": {\"effect\": -0.003396567444916593, \"value\": 0.0}, \"6\": {\"effect\": -0.004656171039518986, \"value\": 0.0}, \"7\": {\"effect\": -0.0060189532404484325, \"value\": 0.0}, \"8\": {\"effect\": 0.0, \"value\": 0.0}, \"9\": {\"effect\": -7.629509237644383e-05, \"value\": 0.0}, \"10\": {\"effect\": 0.0, \"value\": 2.0}, \"11\": {\"effect\": 0.0, \"value\": 2.0}}}, {\"outValue\": 0.060793424798369966, \"simIndex\": 79.0, \"features\": {\"0\": {\"effect\": -0.11180529097944622, \"value\": 0.0}, \"1\": {\"effect\": -0.0024583799445071705, \"value\": 0.0}, \"2\": {\"effect\": -0.00915834356240506, \"value\": 0.0}, \"3\": {\"effect\": 0.0, \"value\": 0.0}, \"4\": {\"effect\": 1.692238101103083e-05, \"value\": 0.0}, \"5\": {\"effect\": -0.003396567444916593, \"value\": 0.0}, \"6\": {\"effect\": -0.004656171039518986, \"value\": 0.0}, \"7\": {\"effect\": -0.0060189532404484325, \"value\": 0.0}, \"8\": {\"effect\": 0.0, \"value\": 0.0}, \"9\": {\"effect\": -7.629509237644383e-05, \"value\": 0.0}, \"10\": {\"effect\": 0.0, \"value\": 2.0}, \"11\": {\"effect\": 0.0, \"value\": 2.0}}}, {\"outValue\": 0.8742422292208278, \"simIndex\": 14.0, \"features\": {\"0\": {\"effect\": 0.6044949647051163, \"value\": 1.0}, \"1\": {\"effect\": -0.0022636258734848314, \"value\": 0.0}, \"2\": {\"effect\": -0.0062017968061335305, \"value\": 0.0}, \"3\": {\"effect\": 0.0, \"value\": 0.0}, \"4\": {\"effect\": 0.001123621707731004, \"value\": 0.0}, \"5\": {\"effect\": -0.001308501305048948, \"value\": 0.0}, \"6\": {\"effect\": 0.08420164228484428, \"value\": 1.0}, \"7\": {\"effect\": -0.00402768928794861, \"value\": 0.0}, \"8\": {\"effect\": 0.0, \"value\": 0.0}, \"9\": {\"effect\": -0.00012288992522568876, \"value\": 0.0}, \"10\": {\"effect\": 0.0, \"value\": 2.0}, \"11\": {\"effect\": 0.0, \"value\": 2.0}}}, {\"outValue\": 0.18371242202372481, \"simIndex\": 18.0, \"features\": {\"0\": {\"effect\": -0.10542856262883106, \"value\": 0.0}, \"1\": {\"effect\": 0.11226739046231564, \"value\": 1.0}, \"2\": {\"effect\": -0.006400700991577045, \"value\": 0.0}, \"3\": {\"effect\": 0.0, \"value\": 0.0}, \"4\": {\"effect\": -0.0016046784396502624, \"value\": 0.0}, \"5\": {\"effect\": -0.0021052213586784177, \"value\": 0.0}, \"6\": {\"effect\": -0.0052196878505703335, \"value\": 0.0}, \"7\": {\"effect\": -0.003648470130076799, \"value\": 0.0}, \"8\": {\"effect\": 0.0, \"value\": 0.0}, \"9\": {\"effect\": -0.0024941507601847473, \"value\": 0.0}, \"10\": {\"effect\": 0.0, \"value\": 2.0}, \"11\": {\"effect\": 0.0, \"value\": 2.0}}}, {\"outValue\": 0.060793424798369966, \"simIndex\": 30.0, \"features\": {\"0\": {\"effect\": -0.11180529097944622, \"value\": 0.0}, \"1\": {\"effect\": -0.0024583799445071705, \"value\": 0.0}, \"2\": {\"effect\": -0.00915834356240506, \"value\": 0.0}, \"3\": {\"effect\": 0.0, \"value\": 0.0}, \"4\": {\"effect\": 1.692238101103083e-05, \"value\": 0.0}, \"5\": {\"effect\": -0.003396567444916593, \"value\": 0.0}, \"6\": {\"effect\": -0.004656171039518986, \"value\": 0.0}, \"7\": {\"effect\": -0.0060189532404484325, \"value\": 0.0}, \"8\": {\"effect\": 0.0, \"value\": 0.0}, \"9\": {\"effect\": -7.629509237644383e-05, \"value\": 0.0}, \"10\": {\"effect\": 0.0, \"value\": 2.0}, \"11\": {\"effect\": 0.0, \"value\": 2.0}}}, {\"outValue\": 0.060793424798369966, \"simIndex\": 80.0, \"features\": {\"0\": {\"effect\": -0.11180529097944622, \"value\": 0.0}, \"1\": {\"effect\": -0.0024583799445071705, \"value\": 0.0}, \"2\": {\"effect\": -0.00915834356240506, \"value\": 0.0}, \"3\": {\"effect\": 0.0, \"value\": 0.0}, \"4\": {\"effect\": 1.692238101103083e-05, \"value\": 0.0}, \"5\": {\"effect\": -0.003396567444916593, \"value\": 0.0}, \"6\": {\"effect\": -0.004656171039518986, \"value\": 0.0}, \"7\": {\"effect\": -0.0060189532404484325, \"value\": 0.0}, \"8\": {\"effect\": 0.0, \"value\": 0.0}, \"9\": {\"effect\": -7.629509237644383e-05, \"value\": 0.0}, \"10\": {\"effect\": 0.0, \"value\": 2.0}, \"11\": {\"effect\": 0.0, \"value\": 2.0}}}, {\"outValue\": 0.17564116426373308, \"simIndex\": 96.0, \"features\": {\"0\": {\"effect\": -0.11258832836781328, \"value\": 0.0}, \"1\": {\"effect\": -0.0016737827673626998, \"value\": 0.0}, \"2\": {\"effect\": 0.10378611498116991, \"value\": 1.0}, \"3\": {\"effect\": 0.0, \"value\": 0.0}, \"4\": {\"effect\": -2.9592591456779546e-05, \"value\": 0.0}, \"5\": {\"effect\": -0.002600236962480936, \"value\": 0.0}, \"6\": {\"effect\": -0.005060054821817789, \"value\": 0.0}, \"7\": {\"effect\": -0.006098004672887526, \"value\": 0.0}, \"8\": {\"effect\": 0.0, \"value\": 0.0}, \"9\": {\"effect\": 0.0015585457454043439, \"value\": 0.0}, \"10\": {\"effect\": 0.0, \"value\": 2.0}, \"11\": {\"effect\": 0.0, \"value\": 2.0}}}, {\"outValue\": 0.060793424798369966, \"simIndex\": 29.0, \"features\": {\"0\": {\"effect\": -0.11180529097944622, \"value\": 0.0}, \"1\": {\"effect\": -0.0024583799445071705, \"value\": 0.0}, \"2\": {\"effect\": -0.00915834356240506, \"value\": 0.0}, \"3\": {\"effect\": 0.0, \"value\": 0.0}, \"4\": {\"effect\": 1.692238101103083e-05, \"value\": 0.0}, \"5\": {\"effect\": -0.003396567444916593, \"value\": 0.0}, \"6\": {\"effect\": -0.004656171039518986, \"value\": 0.0}, \"7\": {\"effect\": -0.0060189532404484325, \"value\": 0.0}, \"8\": {\"effect\": 0.0, \"value\": 0.0}, \"9\": {\"effect\": -7.629509237644383e-05, \"value\": 0.0}, \"10\": {\"effect\": 0.0, \"value\": 2.0}, \"11\": {\"effect\": 0.0, \"value\": 2.0}}}, {\"outValue\": 0.060793424798369966, \"simIndex\": 81.0, \"features\": {\"0\": {\"effect\": -0.11180529097944622, \"value\": 0.0}, \"1\": {\"effect\": -0.0024583799445071705, \"value\": 0.0}, \"2\": {\"effect\": -0.00915834356240506, \"value\": 0.0}, \"3\": {\"effect\": 0.0, \"value\": 0.0}, \"4\": {\"effect\": 1.692238101103083e-05, \"value\": 0.0}, \"5\": {\"effect\": -0.003396567444916593, \"value\": 0.0}, \"6\": {\"effect\": -0.004656171039518986, \"value\": 0.0}, \"7\": {\"effect\": -0.0060189532404484325, \"value\": 0.0}, \"8\": {\"effect\": 0.0, \"value\": 0.0}, \"9\": {\"effect\": -7.629509237644383e-05, \"value\": 0.0}, \"10\": {\"effect\": 0.0, \"value\": 2.0}, \"11\": {\"effect\": 0.0, \"value\": 2.0}}}, {\"outValue\": 0.17564116426373308, \"simIndex\": 93.0, \"features\": {\"0\": {\"effect\": -0.11258832836781328, \"value\": 0.0}, \"1\": {\"effect\": -0.0016737827673626998, \"value\": 0.0}, \"2\": {\"effect\": 0.10378611498116991, \"value\": 1.0}, \"3\": {\"effect\": 0.0, \"value\": 0.0}, \"4\": {\"effect\": -2.9592591456779546e-05, \"value\": 0.0}, \"5\": {\"effect\": -0.002600236962480936, \"value\": 0.0}, \"6\": {\"effect\": -0.005060054821817789, \"value\": 0.0}, \"7\": {\"effect\": -0.006098004672887526, \"value\": 0.0}, \"8\": {\"effect\": 0.0, \"value\": 0.0}, \"9\": {\"effect\": 0.0015585457454043439, \"value\": 0.0}, \"10\": {\"effect\": 0.0, \"value\": 2.0}, \"11\": {\"effect\": 0.0, \"value\": 2.0}}}, {\"outValue\": 0.7643518923798325, \"simIndex\": 7.0, \"features\": {\"0\": {\"effect\": 0.5888595422559711, \"value\": 1.0}, \"1\": {\"effect\": -0.0015669353817749365, \"value\": 0.0}, \"2\": {\"effect\": -0.00886235502727123, \"value\": 0.0}, \"3\": {\"effect\": 0.0, \"value\": 0.0}, \"4\": {\"effect\": 0.0017183286762589567, \"value\": 0.0}, \"5\": {\"effect\": -0.0023759141068082634, \"value\": 0.0}, \"6\": {\"effect\": -0.0047120924494087335, \"value\": 0.0}, \"7\": {\"effect\": -0.004658934294260786, \"value\": 0.0}, \"8\": {\"effect\": 0.0, \"value\": 0.0}, \"9\": {\"effect\": -0.002396251013851436, \"value\": 0.0}, \"10\": {\"effect\": 0.0, \"value\": 2.0}, \"11\": {\"effect\": 0.0, \"value\": 2.0}}}, {\"outValue\": 0.7643518923798325, \"simIndex\": 13.0, \"features\": {\"0\": {\"effect\": 0.5888595422559711, \"value\": 1.0}, \"1\": {\"effect\": -0.0015669353817749365, \"value\": 0.0}, \"2\": {\"effect\": -0.00886235502727123, \"value\": 0.0}, \"3\": {\"effect\": 0.0, \"value\": 0.0}, \"4\": {\"effect\": 0.0017183286762589567, \"value\": 0.0}, \"5\": {\"effect\": -0.0023759141068082634, \"value\": 0.0}, \"6\": {\"effect\": -0.0047120924494087335, \"value\": 0.0}, \"7\": {\"effect\": -0.004658934294260786, \"value\": 0.0}, \"8\": {\"effect\": 0.0, \"value\": 0.0}, \"9\": {\"effect\": -0.002396251013851436, \"value\": 0.0}, \"10\": {\"effect\": 0.0, \"value\": 2.0}, \"11\": {\"effect\": 0.0, \"value\": 2.0}}}, {\"outValue\": 0.813897394557178, \"simIndex\": 3.0, \"features\": {\"0\": {\"effect\": 0.6081185290254608, \"value\": 1.0}, \"1\": {\"effect\": -0.0019542950167519835, \"value\": 0.0}, \"2\": {\"effect\": -0.0071893933116939646, \"value\": 0.0}, \"3\": {\"effect\": 0.0, \"value\": 0.0}, \"4\": {\"effect\": 0.0012136300111309506, \"value\": 0.0}, \"5\": {\"effect\": -0.0008252372052491297, \"value\": 0.0}, \"6\": {\"effect\": -0.003516133665921628, \"value\": 0.0}, \"7\": {\"effect\": -0.003528110628725545, \"value\": 0.0}, \"8\": {\"effect\": 0.0, \"value\": 0.0}, \"9\": {\"effect\": 0.023231901627950746, \"value\": 1.0}, \"10\": {\"effect\": 0.0, \"value\": 2.0}, \"11\": {\"effect\": 0.0, \"value\": 2.0}}}, {\"outValue\": 0.060793424798369966, \"simIndex\": 28.0, \"features\": {\"0\": {\"effect\": -0.11180529097944622, \"value\": 0.0}, \"1\": {\"effect\": -0.0024583799445071705, \"value\": 0.0}, \"2\": {\"effect\": -0.00915834356240506, \"value\": 0.0}, \"3\": {\"effect\": 0.0, \"value\": 0.0}, \"4\": {\"effect\": 1.692238101103083e-05, \"value\": 0.0}, \"5\": {\"effect\": -0.003396567444916593, \"value\": 0.0}, \"6\": {\"effect\": -0.004656171039518986, \"value\": 0.0}, \"7\": {\"effect\": -0.0060189532404484325, \"value\": 0.0}, \"8\": {\"effect\": 0.0, \"value\": 0.0}, \"9\": {\"effect\": -7.629509237644383e-05, \"value\": 0.0}, \"10\": {\"effect\": 0.0, \"value\": 2.0}, \"11\": {\"effect\": 0.0, \"value\": 2.0}}}], \"plot_cmap\": \"RdBu\", \"ordering_keys\": null, \"ordering_keys_time_format\": null}),\n",
       "    document.getElementById('iEKXR5DXJ02EOJ8B5Z8SW')\n",
       "  );\n",
       "</script>"
      ],
      "text/plain": [
       "<shap.plots._force.AdditiveForceArrayVisualizer at 0x7fa212971070>"
      ]
     },
     "execution_count": 87,
     "metadata": {},
     "output_type": "execute_result"
    }
   ],
   "source": [
    "shap.force_plot(explainer.expected_value[0], shap_values[0], X_test[:100,:])"
   ]
  }
 ],
 "metadata": {
  "kernelspec": {
   "display_name": "env01",
   "language": "python",
   "name": "python3"
  },
  "language_info": {
   "codemirror_mode": {
    "name": "ipython",
    "version": 3
   },
   "file_extension": ".py",
   "mimetype": "text/x-python",
   "name": "python",
   "nbconvert_exporter": "python",
   "pygments_lexer": "ipython3",
   "version": "3.9.13"
  },
  "orig_nbformat": 4,
  "vscode": {
   "interpreter": {
    "hash": "b6d61ed80326cecfc8582551484e048097a6a012b6ccc615ba272a0fcf6baf71"
   }
  }
 },
 "nbformat": 4,
 "nbformat_minor": 2
}
